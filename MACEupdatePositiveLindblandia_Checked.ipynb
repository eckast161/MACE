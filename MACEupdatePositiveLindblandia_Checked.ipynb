{
  "cells": [
    {
      "cell_type": "markdown",
      "metadata": {
        "id": "xCnbgvGjrlZO"
      },
      "source": [
        "# MACE method"
      ]
    },
    {
      "cell_type": "code",
      "execution_count": 216,
      "metadata": {
        "id": "irVle1eLrlZR"
      },
      "outputs": [],
      "source": [
        "import matplotlib.pyplot as plt\n",
        "import numpy as np\n",
        "import matplotlib\n",
        "from numpy import cos, sin\n",
        "from numpy import sqrt\n",
        "import time\n",
        "\n",
        "\n",
        "\n",
        "\"\"\"In order to provide a better presentation of the graphs we use the rcParams options shown below.\"\"\"\n",
        "\n",
        "matplotlib.rcParams['text.usetex'] = False\n",
        "matplotlib.rcParams['mathtext.fontset'] = 'stix'\n",
        "matplotlib.rcParams['font.family'] = 'STIXGeneral'\n",
        "matplotlib.rcParams['font.size'] = 15\n",
        "matplotlib.rcParams['figure.figsize'] = (11.0, 8.0)\n",
        "\n",
        "\n",
        "label_size = 20\n"
      ]
    },
    {
      "cell_type": "code",
      "execution_count": 217,
      "metadata": {
        "id": "ZXRLBqjsrlZT"
      },
      "outputs": [],
      "source": [
        "import matplotlib.pyplot as plt\n",
        "import numpy as np\n",
        "#from google.colab import files\n",
        "\n",
        "\"\"\"In order to provide a better presentation of the graphs we use the rcParams options shown below.\"\"\"\n",
        "\n",
        "import matplotlib\n",
        "matplotlib.rcParams['text.usetex'] = False\n",
        "matplotlib.rcParams['mathtext.fontset'] = 'stix'\n",
        "matplotlib.rcParams['font.family'] = 'STIXGeneral'\n",
        "matplotlib.rcParams['font.size'] = 15\n",
        "matplotlib.rcParams['figure.figsize'] = (11.0, 8.0)\n",
        "\n",
        "from numpy import cos, sin\n",
        "\n",
        "label_size = 20\n",
        "\n",
        "from numpy import sqrt\n",
        "\n",
        "import time\n",
        "from numba import jit\n",
        "from numpy import sin, cos\n",
        "\n",
        "T0=time.time()\n",
        "\n",
        "import matplotlib\n",
        "matplotlib.rcParams['text.usetex'] = False\n",
        "matplotlib.rcParams['mathtext.fontset'] = 'stix'\n",
        "matplotlib.rcParams['font.family'] = 'STIXGeneral'\n",
        "matplotlib.rcParams['font.size'] = 15\n",
        "matplotlib.rcParams['figure.figsize'] = (11.0, 8.0)"
      ]
    },
    {
      "cell_type": "code",
      "execution_count": 218,
      "metadata": {
        "id": "ek17_UTfrlZU"
      },
      "outputs": [],
      "source": [
        "\n",
        "import matplotlib.pyplot as plt\n",
        "%matplotlib inline\n",
        "from numpy import random, zeros, sqrt,cos,sin\n",
        "\n",
        "import matplotlib.pyplot as plt\n",
        "import numpy as np\n",
        "\n",
        "from numba import jit\n",
        "import numbers\n",
        "\n",
        "from numpy import sqrt, zeros, diag, random, real, array, complex_, transpose, conjugate, exp, matmul, real\n",
        "\n",
        "\n",
        "import matplotlib\n",
        "import matplotlib.pyplot as plt\n",
        "from scipy.linalg import norm\n",
        "from numpy import dot\n",
        "\n",
        "from numpy import pi as pi\n",
        "from numpy import array\n",
        "\n",
        "import scipy\n",
        "\n",
        "from numpy import exp, imag, real,zeros, conj\n",
        "from numpy import sum\n",
        "from scipy import sparse\n",
        "from numpy import array\n",
        "import scipy.sparse as sp\n",
        "from numpy import concatenate\n",
        "\n",
        "from scipy.sparse import csr_matrix\n",
        "from numpy import sqrt, dot\n",
        "from numpy.random import choice\n",
        "from numpy.random import normal\n",
        "from numpy import sqrt\n",
        "\n",
        "\n",
        "from numpy import add\n",
        "from numpy import concatenate\n",
        "from scipy.sparse import coo_matrix\n",
        "\n",
        "from scipy.sparse import kron"
      ]
    },
    {
      "cell_type": "code",
      "execution_count": 219,
      "metadata": {
        "id": "hl4NLoymrlZd"
      },
      "outputs": [],
      "source": [
        "#t0=time.time()"
      ]
    },
    {
      "cell_type": "markdown",
      "metadata": {
        "id": "RZvF39W5rlZg"
      },
      "source": [
        "# Parameters"
      ]
    },
    {
      "cell_type": "code",
      "execution_count": 220,
      "metadata": {
        "id": "tVs3Rzo8rlZg"
      },
      "outputs": [],
      "source": [
        "#Parameters  (Check the units)\n",
        "\n",
        "Gamma_r=1    #  2*pi*6e6  #reference\n",
        "\n",
        "wL=4.5*Gamma_r  #Laser frequency\n",
        "w0=4.5*Gamma_r  #Energy difference, twith hbar=1\n",
        "c_light=3e8     #m/s\n",
        "\n",
        "\n",
        "DeltaL0=wL-w0      #wL − w0, where wL is the laser detuning   , What are the units?\n",
        "Omega=4 *Gamma_r   #Gamma_r  #Driving frequency , What are the units?\n",
        "\n",
        "\n",
        "\n",
        "\n",
        "N_atom=14          #Number of atoms\n",
        "Atom_cutoff=6\n",
        "\n",
        "\n",
        "\n",
        "\n",
        "\n",
        "lambda_r  =1    # in units\n",
        "\n",
        "Lambda_las=1     # in units    Gamma_r*2*pi/(wL/c_light)   #Laser wavelenght  , What are the units?\n",
        "\n",
        "e_L=array([0,1,0]/sqrt(1))\n",
        "\n",
        "\n",
        "Theta1=pi/2\n",
        "Theta2=pi/2   #they got [0,1,0]\n",
        "\n",
        "e_0=array([sin(Theta1)*cos(Theta2),sin(Theta1)*sin(Theta2),cos(Theta1)])\n",
        "\n",
        "K_laser=(2*pi/Lambda_las)*array([1,0,0])\n",
        "\n",
        "k0=2*pi/Lambda_las\n",
        "\n",
        "Gamma_dec=Gamma_r"
      ]
    },
    {
      "cell_type": "markdown",
      "metadata": {
        "id": "8SaAh4EirlZh"
      },
      "source": [
        "# Clebsch-Gordan coefficient"
      ]
    },
    {
      "cell_type": "code",
      "execution_count": 221,
      "metadata": {
        "id": "58s43oY6rlZh"
      },
      "outputs": [],
      "source": [
        "# Clebsch-Gordan coefficient\n",
        "\n",
        "C00=1    #will change due to the transition nature\n"
      ]
    },
    {
      "cell_type": "markdown",
      "metadata": {
        "id": "B8vKZY3urlZi"
      },
      "source": [
        "# Positions"
      ]
    },
    {
      "cell_type": "code",
      "execution_count": 222,
      "metadata": {
        "id": "8B8syfdKrlZi",
        "colab": {
          "base_uri": "https://localhost:8080/"
        },
        "outputId": "a7190b1d-38a4-4ee7-e866-ded153d3844e"
      },
      "outputs": [
        {
          "output_type": "execute_result",
          "data": {
            "text/plain": [
              "array([[-1.69161704, -0.44188433, -0.70350891],\n",
              "       [-0.66652224,  0.15841857, -0.29050425],\n",
              "       [ 2.75260658, -0.10102683,  0.02651603],\n",
              "       [-0.9926741 , -0.60465391,  0.15543585],\n",
              "       [-3.6309398 , -0.432253  ,  0.51669391],\n",
              "       [-0.56927433,  0.30909772, -0.05366525],\n",
              "       [ 3.42319403,  0.24590286, -0.75019637],\n",
              "       [ 7.78655657, -0.63644295, -0.161667  ],\n",
              "       [-9.66551123,  0.24221771, -0.46625387],\n",
              "       [ 2.69641556,  0.23139258, -0.21605581],\n",
              "       [-2.86472359,  0.17998557, -0.40565044],\n",
              "       [ 4.72124779,  0.62713624,  0.38580061],\n",
              "       [10.27606847,  0.16794696, -0.46045232],\n",
              "       [-3.77790431,  0.7064187 ,  0.02480581]])"
            ]
          },
          "metadata": {},
          "execution_count": 222
        }
      ],
      "source": [
        "# Positions\n",
        "\n",
        "\n",
        "## Oblate Variances matrix: Set the shape of the atoms cloud\n",
        "\n",
        "Sigma_x=20 *lambda_r    \n",
        "Sigma_y=0.25*lambda_r    \n",
        "Sigma_z=Sigma_y        \n",
        "\n",
        "\n",
        "Oblate_variances=zeros((3,3))\n",
        "\n",
        "Oblate_variances[0][0]=Sigma_x\n",
        "Oblate_variances[1][1]=Sigma_y\n",
        "Oblate_variances[2][2]=Sigma_z\n",
        "\n",
        "Miu_pos=[0 , 0, 0]\n",
        "\n",
        "Pos_atoms=(random.multivariate_normal(Miu_pos, Oblate_variances, N_atom))\n",
        "\n",
        "\n",
        "Pos_atoms"
      ]
    },
    {
      "cell_type": "code",
      "execution_count": 180,
      "metadata": {
        "colab": {
          "base_uri": "https://localhost:8080/"
        },
        "id": "lrfqdiPHrlZj",
        "outputId": "ed1cbf41-4c16-4c8e-e085-e00dd331b024"
      },
      "outputs": [
        {
          "output_type": "execute_result",
          "data": {
            "text/plain": [
              "array([[0.  , 0.  , 0.  ],\n",
              "       [0.17, 0.  , 0.  ],\n",
              "       [0.34, 0.  , 0.  ],\n",
              "       [0.51, 0.  , 0.  ],\n",
              "       [0.68, 0.  , 0.  ],\n",
              "       [0.85, 0.  , 0.  ],\n",
              "       [1.02, 0.  , 0.  ],\n",
              "       [1.19, 0.  , 0.  ],\n",
              "       [1.36, 0.  , 0.  ],\n",
              "       [1.53, 0.  , 0.  ],\n",
              "       [1.7 , 0.  , 0.  ],\n",
              "       [1.87, 0.  , 0.  ],\n",
              "       [2.04, 0.  , 0.  ],\n",
              "       [2.21, 0.  , 0.  ]])"
            ]
          },
          "metadata": {},
          "execution_count": 180
        }
      ],
      "source": [
        "\n",
        "\n",
        "for j in range(N_atom):\n",
        "    Pos_atoms[j]=np.array([0.17*Lambda_las*j,0,0])\n",
        "    \n",
        "\n",
        "#Pos_atoms\n",
        "Pos_atoms    "
      ]
    },
    {
      "cell_type": "markdown",
      "metadata": {
        "id": "4-IVxGL7rlZk"
      },
      "source": [
        "# Construct $I_{Lk}$ and $R_{Lk}$"
      ]
    },
    {
      "cell_type": "code",
      "execution_count": 223,
      "metadata": {
        "id": "Klx6VmvnrlZk"
      },
      "outputs": [],
      "source": [
        "# Construct I_Lk and R_Lk\n",
        "\n",
        "eL_e0c=dot(e_L,conj(e_0))\n",
        "\n",
        "conj_0=conj(e_0)\n",
        "\n",
        "DotKL_rk=[]   #summarize k_L.r_k for all k\n",
        "\n",
        "for j in range(N_atom):\n",
        "    DotKL_rk.append(dot(Pos_atoms[j],K_laser))\n",
        "\n",
        "DotKL_rk_exp=exp(1j*array(DotKL_rk))\n",
        "\n",
        "\n",
        "ZL_k= DotKL_rk_exp*eL_e0c\n",
        "\n",
        "\n",
        "ImL_k=imag(ZL_k)\n",
        "RmL_k=real(ZL_k)\n",
        "\n",
        " "
      ]
    },
    {
      "cell_type": "code",
      "execution_count": 223,
      "metadata": {
        "id": "1ET6gYCpSkRB"
      },
      "outputs": [],
      "source": [
        ""
      ]
    },
    {
      "cell_type": "markdown",
      "metadata": {
        "id": "rzUAP_parlZl"
      },
      "source": [
        "# Construct $G_{ij}$"
      ]
    },
    {
      "cell_type": "code",
      "execution_count": 224,
      "metadata": {
        "id": "K8_bquQjrlZl"
      },
      "outputs": [],
      "source": [
        "# Construct the matrix R00\n",
        "#t0=time.time()\n",
        "\n",
        "#@jit\n",
        "def fun_Pkl0(k,l,k0=k0):\n",
        "    \n",
        "    VecR_kl=Pos_atoms[k]-Pos_atoms[l]\n",
        "    R_kl=sqrt(dot(VecR_kl,VecR_kl))\n",
        "    #R_kl=norm(VecR_kl)\n",
        "    \n",
        "    \n",
        "    #Pkl0=dot(conj(e_0),VecR_kl)\n",
        "    Pkl0=dot(conj_0,VecR_kl)/R_kl\n",
        "    Pkl_0nC=(abs(Pkl0))**2\n",
        "    \n",
        "    M0kl=k0*R_kl\n",
        "    \n",
        "    return (1-Pkl_0nC)/M0kl+(1-3*Pkl_0nC)*(1j/(M0kl)**2-1/(M0kl)**3)\n",
        "    \n",
        "\n",
        "\n",
        "MatL=zeros((N_atom,N_atom),dtype='complex')\n",
        "MatR=zeros((N_atom,N_atom),dtype='complex')\n",
        "\n",
        "\n",
        "for i in range(N_atom):\n",
        "    for j in range(i+1,N_atom):\n",
        "        \n",
        "        MatL[i][j]=exp(1j*k0*norm(Pos_atoms[i] -Pos_atoms[j]))\n",
        "        MatR[i][j]=fun_Pkl0(i,j,k0)\n",
        "\n",
        "                \n",
        "MatR=MatR+MatR.T\n",
        "MatL=MatL+(MatL.T)\n",
        "\n",
        "\n",
        "Gij=(3*Gamma_dec/4)*MatL*MatR\n",
        "\n",
        "\n",
        "#t1=time.time()\n",
        "\n",
        "Gij=Gij + 1j*0.5*Gamma_r*np.identity(N_atom) \n",
        "\n",
        "Abs_Gij=abs(Gij)\n",
        "\n",
        "import numpy as np\n",
        "\n",
        "def index_Gij(arr,Atom_cutoff):\n",
        "    \n",
        "    Ordered_N = list(np.argsort(arr)[::-1][:Atom_cutoff])\n",
        "    \n",
        "    return Ordered_N\n",
        "\n",
        "\n",
        "Index_N=[]\n",
        "\n",
        "\n",
        "for j in range(Abs_Gij.shape[0]):\n",
        "    \n",
        "    test_list = list(Abs_Gij[j])\n",
        "    \n",
        "    Index_N.append( [j]+list(index_Gij(test_list,Atom_cutoff-1))  )\n",
        "    \n",
        "    \n",
        "   \n"
      ]
    },
    {
      "cell_type": "code",
      "execution_count": 225,
      "metadata": {
        "colab": {
          "base_uri": "https://localhost:8080/"
        },
        "id": "QxCtiiqbSkRC",
        "outputId": "da959b0d-21ed-43fd-bec8-6d0c5874c023"
      },
      "outputs": [
        {
          "output_type": "execute_result",
          "data": {
            "text/plain": [
              "array([0.826858+0.j, 0.236821+0.j, 0.712424+0.j, 0.301444+0.j,\n",
              "       0.387087+0.j, 0.413936+0.j, 0.582245+0.j, 0.572275+0.j,\n",
              "       0.438874+0.j, 0.534925+0.j, 0.525876+0.j, 0.516404+0.j,\n",
              "       0.48404 +0.j, 0.46679 +0.j])"
            ]
          },
          "metadata": {},
          "execution_count": 225
        }
      ],
      "source": [
        "(scipy.linalg.eig(imag(Gij))[0]).round(6)"
      ]
    },
    {
      "cell_type": "code",
      "execution_count": 225,
      "metadata": {
        "id": "-31GZfB0SkRD"
      },
      "outputs": [],
      "source": [
        ""
      ]
    },
    {
      "cell_type": "code",
      "execution_count": 225,
      "metadata": {
        "id": "HF1RggVhSkRD"
      },
      "outputs": [],
      "source": [
        ""
      ]
    },
    {
      "cell_type": "code",
      "execution_count": 226,
      "metadata": {
        "id": "72Ak3zZ_SkRD"
      },
      "outputs": [],
      "source": [
        "#Gij.round(3)"
      ]
    },
    {
      "cell_type": "code",
      "execution_count": 226,
      "metadata": {
        "id": "vnh6jzAYSkRD"
      },
      "outputs": [],
      "source": [
        ""
      ]
    },
    {
      "cell_type": "code",
      "execution_count": 227,
      "metadata": {
        "id": "8RQk1pfTSkRD"
      },
      "outputs": [],
      "source": [
        "Sigma_eg=csr_matrix(np.array([[0,1],\n",
        "                              [0,0]]))\n",
        "Id_2LS  =csr_matrix(np.array([[1,0],\n",
        "                              [0,1]]))\n",
        "\n",
        "Zero_2LS=csr_matrix(np.array([[0,0],\n",
        "                              [0,0]]))\n",
        "\n",
        "state   =csr_matrix(np.array([[0,0],\n",
        "                              [0,1]]))\n",
        "\n",
        "\n",
        "Sigma_ee=csr_matrix(np.array([[1,0],\n",
        "                              [0,0]]))\n",
        "\n",
        "Sigma_egT=Sigma_eg.T"
      ]
    },
    {
      "cell_type": "code",
      "execution_count": 227,
      "metadata": {
        "id": "-LtWinmWSkRE"
      },
      "outputs": [],
      "source": [
        ""
      ]
    },
    {
      "cell_type": "code",
      "execution_count": 228,
      "metadata": {
        "id": "JTfAhjajSkRE"
      },
      "outputs": [],
      "source": [
        "\n",
        "def tensor_id(ArrayL ):\n",
        "    \n",
        "    Tensor_id=kron(ArrayL[0],ArrayL[1])\n",
        "    \n",
        "    Array_id=Atom_cutoff*[Id_2LS]    \n",
        "    \n",
        "    for j in range(2,len(ArrayL)):\n",
        "        \n",
        "        Tensor_id=kron(Tensor_id,Array_id[j])\n",
        "        \n",
        "    \n",
        "    return coo_matrix(Tensor_id.todense())\n",
        "\n"
      ]
    },
    {
      "cell_type": "code",
      "execution_count": 228,
      "metadata": {
        "id": "uHMNzQ7_SkRE"
      },
      "outputs": [],
      "source": [
        ""
      ]
    },
    {
      "cell_type": "code",
      "execution_count": 229,
      "metadata": {
        "id": "2H9MjamySkRE"
      },
      "outputs": [],
      "source": [
        "def tensor_kj( k , j):   #tensor among k,j are Positions in the cluster after the G classification\n",
        "                         #k is +sigma and j is -sigma \n",
        "    Array_id=Atom_cutoff*[Id_2LS]  \n",
        "    \n",
        "    Array_id[k]=Sigma_eg\n",
        "    Array_id[j]=Sigma_egT\n",
        "    \n",
        "    Tensor_kj=kron(Array_id[0],Array_id[1])\n",
        "    \n",
        "    for j in range(2,len(Array_id)):\n",
        "        \n",
        "        Tensor_kj=kron(Tensor_kj,Array_id[j])\n",
        "        \n",
        "    \n",
        "    return coo_matrix(Tensor_kj.todense())\n",
        "\n"
      ]
    },
    {
      "cell_type": "code",
      "execution_count": 229,
      "metadata": {
        "id": "jRK-5LucSkRF"
      },
      "outputs": [],
      "source": [
        ""
      ]
    },
    {
      "cell_type": "code",
      "execution_count": 229,
      "metadata": {
        "id": "-QMhMphlSkRF"
      },
      "outputs": [],
      "source": [
        ""
      ]
    },
    {
      "cell_type": "code",
      "execution_count": 229,
      "metadata": {
        "id": "iLYrQz0qSkRF"
      },
      "outputs": [],
      "source": [
        ""
      ]
    },
    {
      "cell_type": "code",
      "execution_count": 230,
      "metadata": {
        "id": "swgNT7W1SkRF"
      },
      "outputs": [],
      "source": [
        "def tensor_k_ee( k  ):  #Excited state k is a Position in the cluster after the G classification\n",
        "    \n",
        "    Array_id=Atom_cutoff*[Id_2LS]  \n",
        "    \n",
        "    Array_id[k]=Sigma_ee\n",
        "    \n",
        "    Tensor_k    =kron(Array_id[0],Array_id[1])\n",
        "    \n",
        "    for j in range(2,len(Array_id)):\n",
        "        \n",
        "        Tensor_k=kron(Tensor_k,Array_id[j])\n",
        "        \n",
        "    \n",
        "    return coo_matrix(Tensor_k.todense())"
      ]
    },
    {
      "cell_type": "code",
      "execution_count": 230,
      "metadata": {
        "id": "OlEwbLcMSkRF"
      },
      "outputs": [],
      "source": [
        ""
      ]
    },
    {
      "cell_type": "code",
      "execution_count": 231,
      "metadata": {
        "id": "q3ueBz3gSkRF"
      },
      "outputs": [],
      "source": [
        "def tensor_k( k  ):  #sigmaplus k\n",
        "    \n",
        "    Array_id=Atom_cutoff*[Id_2LS]  \n",
        "    \n",
        "    Array_id[k]=Sigma_eg\n",
        "    \n",
        "    Tensor_k    =kron(Array_id[0],Array_id[1])\n",
        "    \n",
        "    for j in range(2,len(Array_id)):\n",
        "        \n",
        "        Tensor_k=kron(Tensor_k,Array_id[j])\n",
        "        \n",
        "    \n",
        "    return coo_matrix(Tensor_k)"
      ]
    },
    {
      "cell_type": "code",
      "execution_count": 231,
      "metadata": {
        "id": "XiWLphHhSkRG"
      },
      "outputs": [],
      "source": [
        ""
      ]
    },
    {
      "cell_type": "code",
      "execution_count": 232,
      "metadata": {
        "id": "Bnq2JVroSkRG"
      },
      "outputs": [],
      "source": [
        "def init_rho(Atom_cutoff=Atom_cutoff,state=state):\n",
        "    \n",
        "    state_fact=Atom_cutoff*[state]\n",
        "    \n",
        "    Rho_in=kron(state_fact[0],state_fact[1])\n",
        "    \n",
        "    for j in range(2,Atom_cutoff):\n",
        "        \n",
        "        \n",
        "        Rho_in=kron(Rho_in,state_fact[j])\n",
        "        \n",
        "    return coo_matrix(Rho_in)"
      ]
    },
    {
      "cell_type": "code",
      "execution_count": 232,
      "metadata": {
        "id": "yI5ccoJVSkRG"
      },
      "outputs": [],
      "source": [
        ""
      ]
    },
    {
      "cell_type": "code",
      "execution_count": 233,
      "metadata": {
        "id": "1OYOJpT1SkRH"
      },
      "outputs": [],
      "source": [
        "Idu=tensor_id( Atom_cutoff*[Id_2LS])"
      ]
    },
    {
      "cell_type": "code",
      "execution_count": 234,
      "metadata": {
        "colab": {
          "base_uri": "https://localhost:8080/"
        },
        "id": "WEq91wzGSkRH",
        "outputId": "061fb696-34cd-45dd-b262-9233cdbaa156"
      },
      "outputs": [
        {
          "output_type": "execute_result",
          "data": {
            "text/plain": [
              "array([[ 0.        , -0.0073085 , -0.02600583,  0.06526278, -0.01679359,\n",
              "        -0.05944289,  0.01146128, -0.01256288,  0.01476838, -0.02568537,\n",
              "        -0.04713992, -0.01453984,  0.00990315, -0.03766766],\n",
              "       [-0.0073085 ,  0.        , -0.03280203,  0.03661805,  0.02410494,\n",
              "        -0.12631369,  0.02079222, -0.01392276,  0.01325408, -0.02458386,\n",
              "         0.01250356, -0.02086031,  0.0102894 ,  0.01499822],\n",
              "       [-0.02600583, -0.03280203,  0.        ,  0.00726137, -0.01596871,\n",
              "        -0.02157052,  0.07866117,  0.02102612, -0.00879591, -0.0710509 ,\n",
              "        -0.01288983,  0.03187665, -0.01510492, -0.01543276],\n",
              "       [ 0.06526278,  0.03661805,  0.00726137,  0.        , -0.01946352,\n",
              "         0.03219121, -0.02099229,  0.00320432, -0.00092782,  0.01043708,\n",
              "         0.0366965 ,  0.01181709, -0.00412196,  0.02720347],\n",
              "       [-0.01679359,  0.02410494, -0.01596871, -0.01946352,  0.        ,\n",
              "         0.00911034,  0.00483454, -0.00973749,  0.01075174, -0.01543779,\n",
              "        -0.04302279, -0.0123499 ,  0.00821381,  0.01829275],\n",
              "       [-0.05944289, -0.12631369, -0.02157052,  0.03219121,  0.00911034,\n",
              "         0.        ,  0.02738635, -0.01196016,  0.01017061, -0.00646583,\n",
              "        -0.02645738, -0.00989665,  0.00680502,  0.00189426],\n",
              "       [ 0.01146128,  0.02079222,  0.07866117, -0.02099229,  0.00483454,\n",
              "         0.02738635,  0.        , -0.02553042,  0.00758143,  0.11813121,\n",
              "        -0.00604876,  0.01185492,  0.01134956, -0.00110755],\n",
              "       [-0.01256288, -0.01392276,  0.02102612,  0.00320432, -0.00973749,\n",
              "        -0.01196016, -0.02553042,  0.        , -0.00674902,  0.01100126,\n",
              "        -0.00423967, -0.02021913, -0.0259731 , -0.00616006],\n",
              "       [ 0.01476838,  0.01325408, -0.00879591, -0.00092782,  0.01075174,\n",
              "         0.01017061,  0.00758143, -0.00674902,  0.        , -0.00645226,\n",
              "         0.00594985, -0.00722108,  0.00560556,  0.01813231],\n",
              "       [-0.02568537, -0.02458386, -0.0710509 ,  0.01043708, -0.01543779,\n",
              "        -0.00646583,  0.11813121,  0.01100126, -0.00645226,  0.        ,\n",
              "        -0.01944766,  0.0286351 , -0.01343182, -0.01827107],\n",
              "       [-0.04713992,  0.01250356, -0.01288983,  0.0366965 , -0.04302279,\n",
              "        -0.02645738, -0.00604876, -0.00423967,  0.00594985, -0.01944766,\n",
              "         0.        , -0.00965355,  0.00566387,  0.04861949],\n",
              "       [-0.01453984, -0.02086031,  0.03187665,  0.01181709, -0.0123499 ,\n",
              "        -0.00989665,  0.01185492, -0.02021913, -0.00722108,  0.0286351 ,\n",
              "        -0.00965355,  0.        , -0.01318854, -0.01399896],\n",
              "       [ 0.00990315,  0.0102894 , -0.01510492, -0.00412196,  0.00821381,\n",
              "         0.00680502,  0.01134956, -0.0259731 ,  0.00560556, -0.01343182,\n",
              "         0.00566387, -0.01318854,  0.        ,  0.00755937],\n",
              "       [-0.03766766,  0.01499822, -0.01543276,  0.02720347,  0.01829275,\n",
              "         0.00189426, -0.00110755, -0.00616006,  0.01813231, -0.01827107,\n",
              "         0.04861949, -0.01399896,  0.00755937,  0.        ]])"
            ]
          },
          "metadata": {},
          "execution_count": 234
        }
      ],
      "source": [
        "real(Gij)"
      ]
    },
    {
      "cell_type": "code",
      "execution_count": 235,
      "metadata": {
        "id": "dy9mTlLySkRH"
      },
      "outputs": [],
      "source": [
        "ReG=real(Gij)\n",
        "ImG=imag(Gij)"
      ]
    },
    {
      "cell_type": "code",
      "execution_count": 236,
      "metadata": {
        "colab": {
          "base_uri": "https://localhost:8080/"
        },
        "id": "pfsSCNPdSkRH",
        "outputId": "99e0039c-e398-4d1d-d0ab-9da0e58eec5a"
      },
      "outputs": [
        {
          "output_type": "execute_result",
          "data": {
            "text/plain": [
              "0.5"
            ]
          },
          "metadata": {},
          "execution_count": 236
        }
      ],
      "source": [
        "ImG[0,0]"
      ]
    },
    {
      "cell_type": "code",
      "execution_count": 237,
      "metadata": {
        "id": "HmETdMFJSkRH"
      },
      "outputs": [],
      "source": [
        "@jit\n",
        "def Part_H_L_R_LR(index_center):\n",
        "    \n",
        "    Array_id=Atom_cutoff*[Id_2LS] \n",
        "    Index_list=Index_N[index_center]\n",
        "    Zero_gen=tensor_id(Atom_cutoff*[ Zero_2LS ])\n",
        "    \n",
        "    Z1=Zero_gen\n",
        "    Z2=Zero_gen\n",
        "    Z3=kron(Zero_gen,Zero_gen)\n",
        "    \n",
        "    Identity=tensor_id( Atom_cutoff*[Id_2LS])\n",
        "    \n",
        "    \n",
        "    D_R = Zero_gen\n",
        "    D_L = Zero_gen\n",
        "    D_RL= kron(Zero_gen,Zero_gen)\n",
        "    \n",
        "    \n",
        "    for k in range(Atom_cutoff):\n",
        "        \n",
        "        IL_k = Index_list[k]\n",
        "\n",
        "        zL_k = ZL_k[IL_k]\n",
        "\n",
        "        Ten_k= tensor_k(k)\n",
        "        \n",
        "        Ten_k_ee=tensor_k_ee(k)\n",
        "        \n",
        "        Z2   = Z2+ 1j*(Omega)*(zL_k*Ten_k  +conj(zL_k)*(Ten_k.T) )\n",
        "        \n",
        "        \n",
        "        D_R   = D_R  - ( ImG[k,k]     )*Ten_k_ee\n",
        "        D_L   = D_L  - ( ImG[k,k]     )*Ten_k_ee\n",
        "        D_RL  = D_RL + ( 2 * ImG[k,k] )*kron( Ten_k.T , Ten_k.T  )\n",
        "        \n",
        "        \n",
        "        for j in range(k+1,Atom_cutoff):\n",
        "            \n",
        "            IL_j  =Index_list[j]\n",
        "\n",
        "            Ten_kj= tensor_kj( k , j )\n",
        "            \n",
        "            ReGkj=ReG[IL_k,IL_j]\n",
        "            ImGkj=ImG[IL_k,IL_j]\n",
        "            ReGjk=ReG[IL_j,IL_k]\n",
        "            ImGjk=ImG[IL_j,IL_k]\n",
        "            \n",
        "            \n",
        "            Z1=Z1+ (1j*ReGkj-ImGkj)*Ten_kj+(1j*ReGjk-ImGjk)*(Ten_kj.T)\n",
        "            \n",
        "            Ten_j=tensor_k(j)\n",
        "            \n",
        "            \n",
        "            Tenk_Tenj=kron(Ten_k.T,Ten_j.T)\n",
        "\n",
        "            Tenj_Tenk=kron(Ten_j.T,Ten_k.T)\n",
        "            \n",
        "            \n",
        "            Z3=Z3+2*( ImGkj*Tenk_Tenj   +  ImGjk* Tenj_Tenk )\n",
        "            \n",
        "            \n",
        "        \n",
        "        \n",
        "    L_R = Z2+Z1\n",
        "    L_L =-(Z2.T)+conj(Z1.T) \n",
        "    L_RL=Z3\n",
        "    \n",
        "    \n",
        "    #print(L_R.shape, L_L.shape, L_RL.shape)\n",
        "    \n",
        "    Vectorization=kron(Identity,  L_R+D_R )+kron(L_L+D_L,Identity )+L_RL+D_RL\n",
        "    \n",
        "    \n",
        "    return Vectorization\n",
        "\n"
      ]
    },
    {
      "cell_type": "raw",
      "metadata": {
        "id": "d1qvAlpVSkRI"
      },
      "source": [
        "@jit\n",
        "def Part_H_L_R_LR(index_center):\n",
        "    \n",
        "    Array_id=Atom_cutoff*[Id_2LS] \n",
        "    Index_list=Index_N[index_center]\n",
        "    Zero_gen=tensor_id(Atom_cutoff*[ Zero_2LS ])\n",
        "    \n",
        "    MR = Zero_gen\n",
        "    ML = Zero_gen\n",
        "    MRL= kron(Zero_gen,Zero_gen)\n",
        "    \n",
        "    Identity=tensor_id( Atom_cutoff*[Id_2LS] )\n",
        "    \n",
        "    \n",
        "    for i in range(Atom_cutoff):\n",
        "        \n",
        "        IL_i=Index_list[i]\n",
        "\n",
        "        zL_i=ZL_k[IL_i]\n",
        "\n",
        "        Ten_i=tensor_k(i)\n",
        "        \n",
        "        MR   = MR + 1j*(Omega)*( zL_i*Ten_i  +conj((zL_i*Ten_i.T)) )\n",
        "        ML   = ML - 1j*(Omega)*( zL_i*Ten_i  +conj((zL_i*Ten_i.T)) ).T\n",
        "        \n",
        "        \n",
        "        for j in range(Atom_cutoff):\n",
        "            \n",
        "            IL_j  =Index_list[j]\n",
        "\n",
        "            Ten_ij= tensor_kj( i , j )\n",
        "            \n",
        "            ReGij=ReG[IL_i,IL_j]\n",
        "            ImGij=ImG[IL_i,IL_j]\n",
        "            \n",
        "            SpmRI=( 1j*ReGij- ImGij )*Ten_ij\n",
        "            \n",
        "            MR= MR+ SpmRI\n",
        "            \n",
        "            ML= ML+ (conj(SpmRI)).T\n",
        "            \n",
        "            Ten_j=tensor_k(j)\n",
        "            \n",
        "            Teni_Tenj=kron(Ten_i.T,Ten_j.T)\n",
        "            \n",
        "            \n",
        "            MRL=MRL+2*( ImGij*Teni_Tenj )\n",
        "            \n",
        "    \n",
        "    Vectorization=kron( ML,Identity ) + kron( Identity, MR ) + MRL\n",
        "\n",
        "\n",
        "\n",
        "    \n",
        "    return Vectorization\n",
        "\n"
      ]
    },
    {
      "cell_type": "code",
      "execution_count": 237,
      "metadata": {
        "id": "UXdcs-D4SkRI"
      },
      "outputs": [],
      "source": [
        ""
      ]
    },
    {
      "cell_type": "code",
      "execution_count": 237,
      "metadata": {
        "id": "Q6jOMmcOSkRI"
      },
      "outputs": [],
      "source": [
        ""
      ]
    },
    {
      "cell_type": "code",
      "execution_count": 237,
      "metadata": {
        "id": "0BoECa5ASkRI"
      },
      "outputs": [],
      "source": [
        ""
      ]
    },
    {
      "cell_type": "code",
      "execution_count": 237,
      "metadata": {
        "id": "Ccqp3mtaSkRI"
      },
      "outputs": [],
      "source": [
        ""
      ]
    },
    {
      "cell_type": "code",
      "execution_count": 237,
      "metadata": {
        "id": "iOqaGpoTSkRI"
      },
      "outputs": [],
      "source": [
        ""
      ]
    },
    {
      "cell_type": "code",
      "execution_count": 238,
      "metadata": {
        "id": "0HhkyFYGSkRI"
      },
      "outputs": [],
      "source": [
        "Ivec=[4**Atom_cutoff-1]\n",
        "Jvec=[0]\n",
        "Vvec=[1]\n",
        "\n",
        "\n",
        "Init_rho=(sparse.coo_matrix((Vvec,(Ivec,Jvec)),shape=(4**Atom_cutoff,1))) \n"
      ]
    },
    {
      "cell_type": "code",
      "execution_count": 238,
      "metadata": {
        "id": "zu-mTxgSSkRI"
      },
      "outputs": [],
      "source": [
        ""
      ]
    },
    {
      "cell_type": "code",
      "execution_count": 239,
      "metadata": {
        "colab": {
          "base_uri": "https://localhost:8080/"
        },
        "id": "jdGYUecpSkRI",
        "outputId": "0dbe94e5-19a5-4a0c-e9be-bf29b8dd111d"
      },
      "outputs": [
        {
          "output_type": "stream",
          "name": "stderr",
          "text": [
            "<ipython-input-237-1c1c5033db20>:1: NumbaWarning: \n",
            "Compilation is falling back to object mode WITH looplifting enabled because Function \"Part_H_L_R_LR\" failed type inference due to: Untyped global name 'Id_2LS': cannot determine Numba type of <class 'scipy.sparse.csr.csr_matrix'>\n",
            "\n",
            "File \"<ipython-input-237-1c1c5033db20>\", line 4:\n",
            "def Part_H_L_R_LR(index_center):\n",
            "    <source elided>\n",
            "    \n",
            "    Array_id=Atom_cutoff*[Id_2LS] \n",
            "    ^\n",
            "\n",
            "  @jit\n",
            "<ipython-input-237-1c1c5033db20>:1: NumbaWarning: \n",
            "Compilation is falling back to object mode WITHOUT looplifting enabled because Function \"Part_H_L_R_LR\" failed type inference due to: Untyped global name 'Id_2LS': cannot determine Numba type of <class 'scipy.sparse.csr.csr_matrix'>\n",
            "\n",
            "File \"<ipython-input-237-1c1c5033db20>\", line 4:\n",
            "def Part_H_L_R_LR(index_center):\n",
            "    <source elided>\n",
            "    \n",
            "    Array_id=Atom_cutoff*[Id_2LS] \n",
            "    ^\n",
            "\n",
            "  @jit\n",
            "/usr/local/lib/python3.7/dist-packages/numba/core/object_mode_passes.py:178: NumbaWarning: Function \"Part_H_L_R_LR\" was compiled in object mode without forceobj=True, but has lifted loops.\n",
            "\n",
            "File \"<ipython-input-237-1c1c5033db20>\", line 4:\n",
            "def Part_H_L_R_LR(index_center):\n",
            "    <source elided>\n",
            "    \n",
            "    Array_id=Atom_cutoff*[Id_2LS] \n",
            "    ^\n",
            "\n",
            "  state.func_ir.loc))\n",
            "/usr/local/lib/python3.7/dist-packages/numba/core/object_mode_passes.py:188: NumbaDeprecationWarning: \n",
            "Fall-back from the nopython compilation path to the object mode compilation path has been detected, this is deprecated behaviour.\n",
            "\n",
            "For more information visit https://numba.pydata.org/numba-doc/latest/reference/deprecation.html#deprecation-of-object-mode-fall-back-behaviour-when-using-jit\n",
            "\n",
            "File \"<ipython-input-237-1c1c5033db20>\", line 4:\n",
            "def Part_H_L_R_LR(index_center):\n",
            "    <source elided>\n",
            "    \n",
            "    Array_id=Atom_cutoff*[Id_2LS] \n",
            "    ^\n",
            "\n",
            "  state.func_ir.loc))\n",
            "<ipython-input-237-1c1c5033db20>:1: NumbaWarning: \n",
            "Compilation is falling back to object mode WITHOUT looplifting enabled because Function \"Part_H_L_R_LR\" failed type inference due to: Untyped global name 'tensor_k': cannot determine Numba type of <class 'function'>\n",
            "\n",
            "File \"<ipython-input-237-1c1c5033db20>\", line 26:\n",
            "def Part_H_L_R_LR(index_center):\n",
            "    <source elided>\n",
            "\n",
            "        Ten_k= tensor_k(k)\n",
            "        ^\n",
            "\n",
            "  @jit\n",
            "/usr/local/lib/python3.7/dist-packages/numba/core/object_mode_passes.py:178: NumbaWarning: Function \"Part_H_L_R_LR\" was compiled in object mode without forceobj=True.\n",
            "\n",
            "File \"<ipython-input-237-1c1c5033db20>\", line 20:\n",
            "def Part_H_L_R_LR(index_center):\n",
            "    <source elided>\n",
            "    \n",
            "    for k in range(Atom_cutoff):\n",
            "    ^\n",
            "\n",
            "  state.func_ir.loc))\n",
            "/usr/local/lib/python3.7/dist-packages/numba/core/object_mode_passes.py:188: NumbaDeprecationWarning: \n",
            "Fall-back from the nopython compilation path to the object mode compilation path has been detected, this is deprecated behaviour.\n",
            "\n",
            "For more information visit https://numba.pydata.org/numba-doc/latest/reference/deprecation.html#deprecation-of-object-mode-fall-back-behaviour-when-using-jit\n",
            "\n",
            "File \"<ipython-input-237-1c1c5033db20>\", line 20:\n",
            "def Part_H_L_R_LR(index_center):\n",
            "    <source elided>\n",
            "    \n",
            "    for k in range(Atom_cutoff):\n",
            "    ^\n",
            "\n",
            "  state.func_ir.loc))\n"
          ]
        },
        {
          "output_type": "execute_result",
          "data": {
            "text/plain": [
              "<4096x4096 sparse matrix of type '<class 'numpy.complex128'>'\n",
              "\twith 151551 stored elements in Compressed Sparse Row format>"
            ]
          },
          "metadata": {},
          "execution_count": 239
        }
      ],
      "source": [
        "index_center=0\n",
        "\n",
        "\n",
        "M_vect=Part_H_L_R_LR(index_center)\n",
        "\n",
        "Part_H_L_R_LR(index_center)"
      ]
    },
    {
      "cell_type": "code",
      "execution_count": 240,
      "metadata": {
        "id": "e_2hGc7SSkRJ"
      },
      "outputs": [],
      "source": [
        "\n",
        "\n",
        "@jit\n",
        "def f(t, yR):\n",
        " \n",
        "    \n",
        "    MatA=M_vect@yR\n",
        "\n",
        "\n",
        "    return MatA\n",
        "    "
      ]
    },
    {
      "cell_type": "code",
      "execution_count": 241,
      "metadata": {
        "id": "XTLRei6WSkRJ"
      },
      "outputs": [],
      "source": [
        "import matplotlib.pyplot as plt\n",
        "import numpy as np\n",
        "#from google.colab import files\n",
        "\n",
        "\"\"\"In order to provide a better presentation of the graphs we use the rcParams options shown below.\"\"\"\n",
        "\n",
        "import matplotlib\n",
        "matplotlib.rcParams['text.usetex'] = False\n",
        "matplotlib.rcParams['mathtext.fontset'] = 'stix'\n",
        "matplotlib.rcParams['font.family'] = 'STIXGeneral'\n",
        "matplotlib.rcParams['font.size'] = 15\n",
        "matplotlib.rcParams['figure.figsize'] = (11.0, 8.0)\n",
        "\n",
        "from numpy import cos, sin\n",
        "\n",
        "label_size = 20\n",
        "\n",
        "from numpy import sqrt\n",
        "\n",
        "import time\n",
        "from numba import jit\n",
        "from numpy import sin, cos\n",
        "\n",
        "T0=time.time()\n",
        "\n",
        "import matplotlib\n",
        "matplotlib.rcParams['text.usetex'] = False\n",
        "matplotlib.rcParams['mathtext.fontset'] = 'stix'\n",
        "matplotlib.rcParams['font.family'] = 'STIXGeneral'\n",
        "matplotlib.rcParams['font.size'] = 15\n",
        "matplotlib.rcParams['figure.figsize'] = (11.0, 8.0)"
      ]
    },
    {
      "cell_type": "code",
      "execution_count": 241,
      "metadata": {
        "id": "anwtqdHYSkRJ"
      },
      "outputs": [],
      "source": [
        ""
      ]
    },
    {
      "cell_type": "code",
      "execution_count": 242,
      "metadata": {
        "id": "oavXEUMgSkRJ"
      },
      "outputs": [],
      "source": [
        "tspan=np.linspace(0,10,400)"
      ]
    },
    {
      "cell_type": "code",
      "execution_count": 243,
      "metadata": {
        "id": "eqSxRq-7SkRJ"
      },
      "outputs": [],
      "source": [
        "from scipy.integrate import solve_ivp"
      ]
    },
    {
      "cell_type": "code",
      "execution_count": 243,
      "metadata": {
        "id": "Y9WBKzGMSkRK"
      },
      "outputs": [],
      "source": [
        ""
      ]
    },
    {
      "cell_type": "code",
      "execution_count": 244,
      "metadata": {
        "colab": {
          "base_uri": "https://localhost:8080/"
        },
        "id": "4WXPf0V6SkRK",
        "outputId": "c7a2e733-a44e-40e4-c5a6-9df3daf81cd6"
      },
      "outputs": [
        {
          "output_type": "stream",
          "name": "stderr",
          "text": [
            "<ipython-input-240-48ba88635647>:3: NumbaWarning: \n",
            "Compilation is falling back to object mode WITH looplifting enabled because Function \"f\" failed type inference due to: Untyped global name 'M_vect': cannot determine Numba type of <class 'scipy.sparse.csr.csr_matrix'>\n",
            "\n",
            "File \"<ipython-input-240-48ba88635647>\", line 7:\n",
            "def f(t, yR):\n",
            "    <source elided>\n",
            "    \n",
            "    MatA=M_vect@yR\n",
            "    ^\n",
            "\n",
            "  @jit\n",
            "/usr/local/lib/python3.7/dist-packages/numba/core/object_mode_passes.py:178: NumbaWarning: Function \"f\" was compiled in object mode without forceobj=True.\n",
            "\n",
            "File \"<ipython-input-240-48ba88635647>\", line 4:\n",
            "@jit\n",
            "def f(t, yR):\n",
            "^\n",
            "\n",
            "  state.func_ir.loc))\n",
            "/usr/local/lib/python3.7/dist-packages/numba/core/object_mode_passes.py:188: NumbaDeprecationWarning: \n",
            "Fall-back from the nopython compilation path to the object mode compilation path has been detected, this is deprecated behaviour.\n",
            "\n",
            "For more information visit https://numba.pydata.org/numba-doc/latest/reference/deprecation.html#deprecation-of-object-mode-fall-back-behaviour-when-using-jit\n",
            "\n",
            "File \"<ipython-input-240-48ba88635647>\", line 4:\n",
            "@jit\n",
            "def f(t, yR):\n",
            "^\n",
            "\n",
            "  state.func_ir.loc))\n"
          ]
        },
        {
          "output_type": "stream",
          "name": "stdout",
          "text": [
            "1.3741846084594727\n"
          ]
        }
      ],
      "source": [
        "tyme0=time.time()\n",
        "\n",
        "sol = solve_ivp(f, [tspan[0], tspan[-1]], list(array((Init_rho.todense()).T,dtype=\"complex\")[0]),dense_output=True )\n",
        "\n",
        "tyme1=time.time()\n",
        "\n",
        "\n",
        "print(tyme1-tyme0)"
      ]
    },
    {
      "cell_type": "code",
      "execution_count": 244,
      "metadata": {
        "id": "M4xS9FbCSkRK"
      },
      "outputs": [],
      "source": [
        ""
      ]
    },
    {
      "cell_type": "code",
      "execution_count": 245,
      "metadata": {
        "colab": {
          "base_uri": "https://localhost:8080/"
        },
        "id": "6a_-273jSkRK",
        "outputId": "d605ddef-93c9-4fbf-a69f-2bfafb2d752d"
      },
      "outputs": [
        {
          "output_type": "execute_result",
          "data": {
            "text/plain": [
              "185"
            ]
          },
          "metadata": {},
          "execution_count": 245
        }
      ],
      "source": [
        "((sol.y)).shape[1]"
      ]
    },
    {
      "cell_type": "code",
      "execution_count": 246,
      "metadata": {
        "colab": {
          "base_uri": "https://localhost:8080/"
        },
        "id": "P9xt8c3xSkRK",
        "outputId": "c36eadb6-67db-40ea-970a-94189be846a5"
      },
      "outputs": [
        {
          "output_type": "execute_result",
          "data": {
            "text/plain": [
              "(4096,)"
            ]
          },
          "metadata": {},
          "execution_count": 246
        }
      ],
      "source": [
        "((sol.y)[:,-1]).shape"
      ]
    },
    {
      "cell_type": "code",
      "execution_count": 247,
      "metadata": {
        "id": "vC0omnk6SkRL"
      },
      "outputs": [],
      "source": [
        "Sol_dense=(sol.sol(tspan))"
      ]
    },
    {
      "cell_type": "code",
      "execution_count": 247,
      "metadata": {
        "id": "qdSTvHcSSkRL"
      },
      "outputs": [],
      "source": [
        ""
      ]
    },
    {
      "cell_type": "code",
      "execution_count": 247,
      "metadata": {
        "id": "tcXOZBPDSkRL"
      },
      "outputs": [],
      "source": [
        ""
      ]
    },
    {
      "cell_type": "code",
      "execution_count": 248,
      "metadata": {
        "id": "mqXQ0J1PSkRL"
      },
      "outputs": [],
      "source": [
        "#Changeeee"
      ]
    },
    {
      "cell_type": "code",
      "execution_count": 249,
      "metadata": {
        "id": "UhFaGsIqSkRL"
      },
      "outputs": [],
      "source": [
        "Sigma_EG=array(tensor_k(0).todense())\n",
        "Sigma_EE=array(tensor_k_ee(0).todense())\n",
        "\n",
        "#S_eg=array(Sigma_eg.todense())\n",
        "#S_ee=array(Sigma_ee.todense())"
      ]
    },
    {
      "cell_type": "code",
      "execution_count": 250,
      "metadata": {
        "colab": {
          "base_uri": "https://localhost:8080/"
        },
        "id": "nsQhT1kuSkRL",
        "outputId": "f7a105b9-d9e4-4912-9a2c-3d3b7e3df361"
      },
      "outputs": [
        {
          "output_type": "execute_result",
          "data": {
            "text/plain": [
              "<2x2 sparse matrix of type '<class 'numpy.longlong'>'\n",
              "\twith 1 stored elements in Compressed Sparse Row format>"
            ]
          },
          "metadata": {},
          "execution_count": 250
        }
      ],
      "source": [
        "Sigma_eg"
      ]
    },
    {
      "cell_type": "code",
      "execution_count": 251,
      "metadata": {
        "colab": {
          "base_uri": "https://localhost:8080/"
        },
        "id": "Im2pdedxSkRL",
        "outputId": "2c1bed92-9812-4f7c-931a-29ed39cbc9d7"
      },
      "outputs": [
        {
          "output_type": "execute_result",
          "data": {
            "text/plain": [
              "0j"
            ]
          },
          "metadata": {},
          "execution_count": 251
        }
      ],
      "source": [
        "dot(Sigma_EE.flatten(),(sol.y)[:,0])"
      ]
    },
    {
      "cell_type": "code",
      "execution_count": 252,
      "metadata": {
        "colab": {
          "base_uri": "https://localhost:8080/"
        },
        "id": "_Ak7cxIYSkRM",
        "outputId": "b85cbdf7-500b-4cad-b478-0ebf661ccb6f"
      },
      "outputs": [
        {
          "output_type": "execute_result",
          "data": {
            "text/plain": [
              "6"
            ]
          },
          "metadata": {},
          "execution_count": 252
        }
      ],
      "source": [
        "Atom_cutoff"
      ]
    },
    {
      "cell_type": "code",
      "execution_count": 252,
      "metadata": {
        "id": "MCCh8nxWSkRM"
      },
      "outputs": [],
      "source": [
        ""
      ]
    },
    {
      "cell_type": "code",
      "execution_count": 253,
      "metadata": {
        "colab": {
          "base_uri": "https://localhost:8080/"
        },
        "id": "AI_i4pIUSkRM",
        "outputId": "c3a0f36b-a47e-4a29-ff03-f0235bf11384"
      },
      "outputs": [
        {
          "output_type": "execute_result",
          "data": {
            "text/plain": [
              "<64x64 sparse matrix of type '<class 'numpy.longlong'>'\n",
              "\twith 1024 stored elements in COOrdinate format>"
            ]
          },
          "metadata": {},
          "execution_count": 253
        }
      ],
      "source": [
        "tensor_k(0)"
      ]
    },
    {
      "cell_type": "code",
      "execution_count": 254,
      "metadata": {
        "id": "CaT1peY1SkRM"
      },
      "outputs": [],
      "source": [
        "Splus_i=[]\n",
        "See_i  =[]\n",
        "\n",
        "Y_array=Sol_dense\n",
        "\n",
        "for j in range((Y_array).shape[1]):\n",
        "    \n",
        "    See=dot(Sigma_EE.flatten(),(Y_array)[:,j])\n",
        "    Seg=dot(Sigma_EG.flatten(),(Y_array)[:,j])\n",
        "    \n",
        "    \n",
        "    See_i.append(See)\n",
        "    \n",
        "    Splus_i.append(Seg)\n",
        "    \n",
        "    \n"
      ]
    },
    {
      "cell_type": "code",
      "execution_count": 257,
      "metadata": {
        "colab": {
          "base_uri": "https://localhost:8080/",
          "height": 517
        },
        "id": "2mOjU3wiSkRM",
        "outputId": "5b140bf5-cdaf-42cd-a9c6-79557a09b727"
      },
      "outputs": [
        {
          "output_type": "execute_result",
          "data": {
            "text/plain": [
              "<matplotlib.legend.Legend at 0x7f024e2aeed0>"
            ]
          },
          "metadata": {},
          "execution_count": 257
        },
        {
          "output_type": "display_data",
          "data": {
            "text/plain": [
              "<Figure size 792x576 with 1 Axes>"
            ],
            "image/png": "[encoded data removed]"
          },
          "metadata": {
            "needs_background": "light"
          }
        }
      ],
      "source": [
        "\n",
        "#plt.plot(tspan,2*np.real(Splus_i),label=\"$\\\\left<\\hat{\\sigma}_i^x\\\\right>$\")\n",
        "\n",
        "#plt.plot(tspan,2*np.imag(Splus_i),label=\"$\\\\left<\\hat{\\sigma}_i^y\\\\right>$\")\n",
        "#plt.plot(tspan,-sin(2*Omega*tspan),\"--\")\n",
        "\n",
        "#plt.plot(tspan,(sin(Omega*tspan))**2,\"-*\")\n",
        "plt.plot(tspan,np.imag(See_i),label=\"$\\\\left<\\hat{\\sigma}_i^{ee}\\\\right>$\")\n",
        "\n",
        "plt.axvline(x=np.pi/4, color='b')\n",
        "\n",
        "#plt.xscale(\"log\")\n",
        "\n",
        "plt.legend()"
      ]
    },
    {
      "cell_type": "code",
      "execution_count": 255,
      "metadata": {
        "id": "ynD6x9HvSkRM"
      },
      "outputs": [],
      "source": [
        ""
      ]
    },
    {
      "cell_type": "code",
      "execution_count": 255,
      "metadata": {
        "id": "S-IDM-CDSkRM"
      },
      "outputs": [],
      "source": [
        ""
      ]
    },
    {
      "cell_type": "code",
      "execution_count": 256,
      "metadata": {
        "colab": {
          "base_uri": "https://localhost:8080/",
          "height": 166
        },
        "id": "EIzLitCBSkRM",
        "outputId": "c230d01e-7192-45a1-81a9-cdf9cda06008"
      },
      "outputs": [
        {
          "output_type": "error",
          "ename": "NameError",
          "evalue": "ignored",
          "traceback": [
            "\u001b[0;31m---------------------------------------------------------------------------\u001b[0m",
            "\u001b[0;31mNameError\u001b[0m                                 Traceback (most recent call last)",
            "\u001b[0;32m<ipython-input-256-3b1626288afb>\u001b[0m in \u001b[0;36m<module>\u001b[0;34m()\u001b[0m\n\u001b[0;32m----> 1\u001b[0;31m \u001b[0mhere\u001b[0m\u001b[0;34m\u001b[0m\u001b[0;34m\u001b[0m\u001b[0m\n\u001b[0m",
            "\u001b[0;31mNameError\u001b[0m: name 'here' is not defined"
          ]
        }
      ],
      "source": [
        "here"
      ]
    },
    {
      "cell_type": "code",
      "execution_count": null,
      "metadata": {
        "id": "uKTNdY-aSkRN"
      },
      "outputs": [],
      "source": [
        ""
      ]
    },
    {
      "cell_type": "code",
      "execution_count": null,
      "metadata": {
        "id": "pTEoi_AGSkRN"
      },
      "outputs": [],
      "source": [
        ""
      ]
    },
    {
      "cell_type": "code",
      "execution_count": null,
      "metadata": {
        "id": "HJu0qx1BSkRN"
      },
      "outputs": [],
      "source": [
        ""
      ]
    },
    {
      "cell_type": "code",
      "execution_count": null,
      "metadata": {
        "id": "jmhOACxqSkRN"
      },
      "outputs": [],
      "source": [
        ""
      ]
    },
    {
      "cell_type": "code",
      "execution_count": null,
      "metadata": {
        "id": "EuGuy6m_SkRN"
      },
      "outputs": [],
      "source": [
        ""
      ]
    },
    {
      "cell_type": "code",
      "execution_count": null,
      "metadata": {
        "id": "1bHlpH5hSkRN"
      },
      "outputs": [],
      "source": [
        ""
      ]
    },
    {
      "cell_type": "code",
      "execution_count": null,
      "metadata": {
        "id": "-XZdUhrRSkRN"
      },
      "outputs": [],
      "source": [
        ""
      ]
    },
    {
      "cell_type": "code",
      "execution_count": null,
      "metadata": {
        "id": "uAglNOxjSkRN"
      },
      "outputs": [],
      "source": [
        ""
      ]
    },
    {
      "cell_type": "code",
      "execution_count": null,
      "metadata": {
        "id": "ggOs178qSkRN"
      },
      "outputs": [],
      "source": [
        ""
      ]
    },
    {
      "cell_type": "code",
      "execution_count": null,
      "metadata": {
        "id": "2FhPVHK1SkRN"
      },
      "outputs": [],
      "source": [
        ""
      ]
    },
    {
      "cell_type": "code",
      "execution_count": null,
      "metadata": {
        "id": "Mi9pMjvGSkRN"
      },
      "outputs": [],
      "source": [
        ""
      ]
    },
    {
      "cell_type": "code",
      "execution_count": null,
      "metadata": {
        "id": "SrSj81HDSkRO"
      },
      "outputs": [],
      "source": [
        "steps=3000\n",
        "t_final=3\n",
        "\n",
        "\n",
        "dt=t_final/steps\n",
        "\n",
        "tspan=np.linspace(0,t_final,steps)"
      ]
    },
    {
      "cell_type": "code",
      "execution_count": null,
      "metadata": {
        "id": "y7zB89n0SkRO"
      },
      "outputs": [],
      "source": [
        "dt"
      ]
    },
    {
      "cell_type": "code",
      "execution_count": null,
      "metadata": {
        "id": "UqS2DhhBSkRP"
      },
      "outputs": [],
      "source": [
        ""
      ]
    },
    {
      "cell_type": "code",
      "execution_count": null,
      "metadata": {
        "id": "ZywJQvYUSkRQ"
      },
      "outputs": [],
      "source": [
        ""
      ]
    },
    {
      "cell_type": "code",
      "execution_count": null,
      "metadata": {
        "id": "fQdy2sUpSkRQ"
      },
      "outputs": [],
      "source": [
        ""
      ]
    },
    {
      "cell_type": "code",
      "execution_count": null,
      "metadata": {
        "id": "viVz1_rvSkRQ"
      },
      "outputs": [],
      "source": [
        "@jit\n",
        "def oper_h(rho,H_L,H_R):\n",
        "        \n",
        "    return H_L@rho + rho@H_R"
      ]
    },
    {
      "cell_type": "code",
      "execution_count": null,
      "metadata": {
        "id": "mDKWcfIqSkRQ"
      },
      "outputs": [],
      "source": [
        "@jit\n",
        "def matrix_evol(rho,index_center):\n",
        "    \n",
        "    s_iplus=[]\n",
        "    s_iee  =[]\n",
        "    \n",
        "    rho_states=[]\n",
        "    \n",
        "    Index_list=Index_N[index_center]\n",
        "    \n",
        "    sigma_plus_ic=   tensor_k(0)\n",
        "    sigma_ee_ic  =   tensor_k_ee(0)\n",
        "    \n",
        "    H_LR=Part_H_LR(index_center)\n",
        "    \n",
        "    H_L = H_LR[0]\n",
        "    H_R = H_LR[1]\n",
        "    \n",
        "    rho_final=rho\n",
        "    \n",
        "    \n",
        "    s_iplus.append( sum(( sigma_plus_ic@rho_final).diagonal())  )\n",
        "    s_iee.append( sum(( sigma_ee_ic@rho_final ).diagonal())  )\n",
        "    #rho_states.append(rho_init)\n",
        "    \n",
        "\n",
        "    for t in range(len(tspan)):\n",
        "        \n",
        "        print(t*100/len(tspan))\n",
        "        \n",
        "        \n",
        "        rho_final  =rho_final+dt*(oper_h(rho_final,H_L,H_R))\n",
        "        \n",
        "        \n",
        "#        for k in range(Atom_cutoff):\n",
        "#            for j in range(k+1,Atom_cutoff):\n",
        "                    \n",
        "#                K_k=Index_list[k]\n",
        "#                J_j=Index_list[j]\n",
        "                \n",
        "#                sig_p_k=tensor_k(k)\n",
        "#                sig_p_j=tensor_k(j)\n",
        "                \n",
        "#                sig_p_k_T=sig_p_k.T\n",
        "#                sig_p_j_T=sig_p_j.T                \n",
        "                    \n",
        "#                ImGkj       =ImG[K_k,J_j]\n",
        "#                ImGjk       =ImG[J_j,K_k]\n",
        "                    \n",
        "                    \n",
        "#                rho_final=rho_final+2*dt*(ImGkj*(sig_p_k_T@rho_final@sig_p_j)+ImGjk*(sig_p_j_T@rho_final@sig_p_k))\n",
        "        \n",
        "        \n",
        "        s_iplus.append( sum(( sigma_plus_ic@rho_final ).diagonal())  )\n",
        "        s_iee.append( sum(( sigma_ee_ic@rho_final).diagonal())  )\n",
        "        #rho_states.append(rho_init)\n",
        "               \n",
        "    return s_iplus, s_iee   #,rho_states\n",
        "         "
      ]
    },
    {
      "cell_type": "code",
      "execution_count": null,
      "metadata": {
        "id": "aHf9zyzGSkRQ"
      },
      "outputs": [],
      "source": [
        ""
      ]
    },
    {
      "cell_type": "code",
      "execution_count": null,
      "metadata": {
        "id": "FWdZc7DTSkRQ"
      },
      "outputs": [],
      "source": [
        "import matplotlib.pyplot as plt\n",
        "import numpy as np\n",
        "#from google.colab import files\n",
        "\n",
        "\"\"\"In order to provide a better presentation of the graphs we use the rcParams options shown below.\"\"\"\n",
        "\n",
        "import matplotlib\n",
        "matplotlib.rcParams['text.usetex'] = False\n",
        "matplotlib.rcParams['mathtext.fontset'] = 'stix'\n",
        "matplotlib.rcParams['font.family'] = 'STIXGeneral'\n",
        "matplotlib.rcParams['font.size'] = 15\n",
        "matplotlib.rcParams['figure.figsize'] = (11.0, 8.0)\n",
        "\n",
        "from numpy import cos, sin\n",
        "\n",
        "label_size = 20\n",
        "\n",
        "from numpy import sqrt\n",
        "\n",
        "import time\n",
        "from numba import jit\n",
        "from numpy import sin, cos\n",
        "\n",
        "T0=time.time()\n",
        "\n",
        "import matplotlib\n",
        "matplotlib.rcParams['text.usetex'] = False\n",
        "matplotlib.rcParams['mathtext.fontset'] = 'stix'\n",
        "matplotlib.rcParams['font.family'] = 'STIXGeneral'\n",
        "matplotlib.rcParams['font.size'] = 15\n",
        "matplotlib.rcParams['figure.figsize'] = (11.0, 8.0)"
      ]
    },
    {
      "cell_type": "code",
      "execution_count": null,
      "metadata": {
        "id": "ieD1klv4SkRQ"
      },
      "outputs": [],
      "source": [
        "T_init=time.time()\n",
        "\n",
        "\n",
        "Evolution=matrix_evol(init_rho(),5)\n",
        "\n",
        "\n",
        "T_final=time.time()"
      ]
    },
    {
      "cell_type": "code",
      "execution_count": null,
      "metadata": {
        "id": "i-MAghrnSkRR"
      },
      "outputs": [],
      "source": [
        "print(T_final-T_init)"
      ]
    },
    {
      "cell_type": "code",
      "execution_count": null,
      "metadata": {
        "id": "7OB5SsW7SkRR"
      },
      "outputs": [],
      "source": [
        "print(N_atom,Atom_cutoff)"
      ]
    },
    {
      "cell_type": "code",
      "execution_count": null,
      "metadata": {
        "id": "aeIi_1-uSkRR"
      },
      "outputs": [],
      "source": [
        "(np.ones((steps,)))"
      ]
    },
    {
      "cell_type": "code",
      "execution_count": null,
      "metadata": {
        "id": "QdL6MA1oSkRR"
      },
      "outputs": [],
      "source": [
        "plt.plot(tspan,np.real(Evolution[1][:-1]))\n",
        "#plt.plot(tspan,2*real(Evolution[0][:-1]))\n",
        "\n",
        "\n",
        "plt.plot(tspan,2*imag(Evolution[0][:-1]))\n",
        "plt.plot(tspan,2*real(Evolution[0][:-1]))\n",
        "#plt.plot(tspan,(sin(Omega*tspan))**2,\"--\")\n",
        "\n",
        "#plt.plot(tspan,-(sin(2*Omega*tspan)),\"--\")\n",
        "\n",
        "\n",
        "\n",
        "\n",
        "plt.plot(tspan,(np.ones((steps,))))\n",
        "plt.plot(tspan,-(np.ones((steps,))))\n",
        "\n",
        "#plt.axvline(x=pi/4, color='b')"
      ]
    },
    {
      "cell_type": "code",
      "execution_count": null,
      "metadata": {
        "id": "7fck9QLJSkRR"
      },
      "outputs": [],
      "source": [
        ""
      ]
    },
    {
      "cell_type": "code",
      "execution_count": null,
      "metadata": {
        "id": "3g9jhZMOSkRR"
      },
      "outputs": [],
      "source": [
        "herre"
      ]
    },
    {
      "cell_type": "code",
      "execution_count": null,
      "metadata": {
        "id": "EUaHOe0iSkRS"
      },
      "outputs": [],
      "source": [
        ""
      ]
    },
    {
      "cell_type": "code",
      "execution_count": null,
      "metadata": {
        "id": "R3FF-JwNSkRS"
      },
      "outputs": [],
      "source": [
        ""
      ]
    },
    {
      "cell_type": "code",
      "execution_count": null,
      "metadata": {
        "id": "ZgWouUKRSkRS"
      },
      "outputs": [],
      "source": [
        "plt.plot(tspan,np.real(Evolution[1][:-1]))\n",
        "#plt.plot(tspan,2*real(Evolution[0][:-1]))\n",
        "\n",
        "\n",
        "plt.plot(tspan,2*imag(Evolution[0][:-1]))\n",
        "plt.plot(tspan,2*real(Evolution[0][:-1]))\n",
        "#plt.plot(tspan,(sin(Omega*tspan))**2,\"--\")\n",
        "\n",
        "#plt.plot(tspan,-(sin(2*Omega*tspan)),\"--\")\n",
        "\n",
        "\n",
        "\n",
        "\n",
        "plt.plot(tspan,(np.ones((steps,))))\n",
        "plt.plot(tspan,-(np.ones((steps,))))\n",
        "\n",
        "#plt.axvline(x=pi/4, color='b')"
      ]
    },
    {
      "cell_type": "code",
      "execution_count": null,
      "metadata": {
        "id": "i59gVIWgSkRS"
      },
      "outputs": [],
      "source": [
        ""
      ]
    },
    {
      "cell_type": "markdown",
      "metadata": {
        "id": "LTBWrykGSkRS"
      },
      "source": [
        "\\begin{align}\n",
        "\\partial_{t}\\rho & =-{\\rm i}\\left[H,\\rho\\right]+\\mathcal{L}\\left[\\rho\\right],\\\\\n",
        "\\rho\\left(t+\\Delta t\\right) & =\\rho\\left(t\\right)+\\Delta t\\left(-{\\rm i}\\left[H,\\rho\\left(t\\right)\\right]+\\mathcal{L}\\left[\\rho\\left(t\\right)\\right]\\right)\n",
        "\\end{align}\n"
      ]
    },
    {
      "cell_type": "code",
      "execution_count": null,
      "metadata": {
        "id": "NmiM1cVmSkRS"
      },
      "outputs": [],
      "source": [
        ""
      ]
    },
    {
      "cell_type": "code",
      "execution_count": null,
      "metadata": {
        "id": "OX2m6TrmSkRS"
      },
      "outputs": [],
      "source": [
        ""
      ]
    },
    {
      "cell_type": "code",
      "execution_count": null,
      "metadata": {
        "id": "OVkEyHGxSkRT"
      },
      "outputs": [],
      "source": [
        ""
      ]
    },
    {
      "cell_type": "code",
      "execution_count": null,
      "metadata": {
        "id": "vaFCWF2qSkRT"
      },
      "outputs": [],
      "source": [
        ""
      ]
    },
    {
      "cell_type": "code",
      "execution_count": null,
      "metadata": {
        "id": "KbKyx91YSkRT"
      },
      "outputs": [],
      "source": [
        ""
      ]
    },
    {
      "cell_type": "code",
      "execution_count": null,
      "metadata": {
        "id": "kKaaTJooSkRT"
      },
      "outputs": [],
      "source": [
        ""
      ]
    },
    {
      "cell_type": "code",
      "execution_count": null,
      "metadata": {
        "id": "jXKwwBYkSkRT"
      },
      "outputs": [],
      "source": [
        ""
      ]
    },
    {
      "cell_type": "code",
      "execution_count": null,
      "metadata": {
        "id": "TJtuAoM_SkRT"
      },
      "outputs": [],
      "source": [
        ""
      ]
    },
    {
      "cell_type": "code",
      "execution_count": null,
      "metadata": {
        "id": "x3pEIFtJSkRT"
      },
      "outputs": [],
      "source": [
        ""
      ]
    },
    {
      "cell_type": "code",
      "execution_count": null,
      "metadata": {
        "id": "XOQwV_OgSkRT"
      },
      "outputs": [],
      "source": [
        ""
      ]
    },
    {
      "cell_type": "code",
      "execution_count": null,
      "metadata": {
        "id": "r7tZtO_oSkRT"
      },
      "outputs": [],
      "source": [
        ""
      ]
    },
    {
      "cell_type": "code",
      "execution_count": null,
      "metadata": {
        "id": "fIBcDQH0SkRT"
      },
      "outputs": [],
      "source": [
        ""
      ]
    },
    {
      "cell_type": "code",
      "execution_count": null,
      "metadata": {
        "id": "azjQp53kSkRT"
      },
      "outputs": [],
      "source": [
        ""
      ]
    },
    {
      "cell_type": "code",
      "execution_count": null,
      "metadata": {
        "id": "sJG8fYVRSkRU"
      },
      "outputs": [],
      "source": [
        ""
      ]
    },
    {
      "cell_type": "code",
      "execution_count": null,
      "metadata": {
        "id": "jPK_QyujSkRU"
      },
      "outputs": [],
      "source": [
        ""
      ]
    },
    {
      "cell_type": "code",
      "execution_count": null,
      "metadata": {
        "id": "ZmOn0hJJSkRU"
      },
      "outputs": [],
      "source": [
        ""
      ]
    },
    {
      "cell_type": "code",
      "execution_count": null,
      "metadata": {
        "id": "Wf0uvk8sSkRU"
      },
      "outputs": [],
      "source": [
        ""
      ]
    },
    {
      "cell_type": "code",
      "execution_count": null,
      "metadata": {
        "id": "1BgLr7AuSkRU"
      },
      "outputs": [],
      "source": [
        ""
      ]
    },
    {
      "cell_type": "code",
      "execution_count": null,
      "metadata": {
        "id": "0jV8QsFJSkRU"
      },
      "outputs": [],
      "source": [
        ""
      ]
    },
    {
      "cell_type": "code",
      "execution_count": null,
      "metadata": {
        "id": "iU8wSaWaSkRU"
      },
      "outputs": [],
      "source": [
        ""
      ]
    },
    {
      "cell_type": "code",
      "execution_count": null,
      "metadata": {
        "id": "zHm88cSOSkRU"
      },
      "outputs": [],
      "source": [
        ""
      ]
    },
    {
      "cell_type": "markdown",
      "metadata": {
        "id": "kfSsqU6ZrlZm"
      },
      "source": [
        "\\begin{align*}\n",
        "A_{k} & =C_{k}+D_{k},\\\\\n",
        "C_{k}^{{\\rm T}} & =-C_{k},\\\\\n",
        "D_{k}^{xx} & =-\\left(C_{0}^{0}\\right)^{2}\\Gamma\\frac{\\left(1+\\left\\langle \\sigma_{z}^{k}\\right\\rangle \\right)}{2},\\\\\n",
        "D_{k}^{yy} & =-\\left(C_{0}^{0}\\right)^{2}\\Gamma\\frac{\\left(1+\\left\\langle \\sigma_{z}^{k}\\right\\rangle \\right)}{2},\\\\\n",
        "D_{k}^{zx} & =\\left(C_{0}^{0}\\right)^{2}\\Gamma\\frac{\\left\\langle \\sigma_{x}^{k}\\right\\rangle }{2},\\\\\n",
        "D_{k}^{zy} & =\\left(C_{0}^{0}\\right)^{2}\\Gamma\\frac{\\left\\langle \\sigma_{y}^{k}\\right\\rangle }{2},\\\\\n",
        "D_{k}^{zz} & =-\\left(C_{0}^{0}\\right)^{2}\\Gamma,\\\\\n",
        "C_{k}^{xy} & =-\\Delta,\\\\\n",
        "C_{k}^{xz} & =2C_{0}^{0}\\Omega\\mathcal{I}\\left({\\rm e}^{{\\rm i}\\overrightarrow{{\\rm k}}_{{\\rm L}}\\cdot\\overrightarrow{r}_{k}}\\left(\\hat{e}_{{\\rm L}}\\cdot\\hat{e}_{+}^{*}\\right)\\right)-\\left(C_{0}^{0}\\right)^{4}\\left(\\overrightarrow{\\mathcal{R}}_{0,0}^{k}\\cdot\\left\\langle \\overrightarrow{\\sigma}_{y}\\right\\rangle \\right)+\\left(C_{0}^{0}\\right)^{2}\\Gamma\\left\\langle S^{x}\\right\\rangle ,\\\\\n",
        "C_{k}^{yz} & =2C_{0}^{0}\\Omega\\mathcal{R}\\left({\\rm e}^{{\\rm i}\\overrightarrow{{\\rm k}}_{{\\rm L}}\\cdot\\overrightarrow{r}_{k}}\\left(\\hat{e}_{{\\rm L}}\\cdot\\hat{e}_{+}^{*}\\right)\\right)+\\left(C_{0}^{0}\\right)^{4}\\left(\\overrightarrow{\\mathcal{R}}_{0,0}^{k}\\cdot\\left\\langle \\overrightarrow{\\sigma}_{x}\\right\\rangle \\right)+\\left(C_{0}^{0}\\right)^{2}\\Gamma\\left\\langle S^{y}\\right\\rangle .\n",
        "\\end{align*}"
      ]
    },
    {
      "cell_type": "markdown",
      "metadata": {
        "id": "cHXbZ9UErlZm"
      },
      "source": [
        "\n",
        "\\begin{equation}\n",
        "{\\rm d}\\left\\langle \\overrightarrow{s}_{k}\\right\\rangle =A_{k}\\left\\langle \\overrightarrow{s}_{k}\\right\\rangle {\\rm d}t-\\left(C_{0}^{0}\\right)^{2}\\Gamma\\begin{pmatrix}0\\\\\n",
        "0\\\\\n",
        "1\n",
        "\\end{pmatrix}{\\rm d}t+C_{0}^{0}\\sqrt{\\Gamma}\\begin{pmatrix}-\\left\\langle \\sigma_{y}^{k}\\right\\rangle \\\\\n",
        "\\left\\langle \\sigma_{x}^{k}\\right\\rangle \\\\\n",
        "1+\\left\\langle \\sigma_{z}^{k}\\right\\rangle \n",
        "\\end{pmatrix}{\\rm d}W\n",
        "\\end{equation}"
      ]
    },
    {
      "cell_type": "markdown",
      "metadata": {
        "id": "cm436-PkrlZm"
      },
      "source": [
        "# Construct matrix $A_k$"
      ]
    },
    {
      "cell_type": "code",
      "execution_count": null,
      "metadata": {
        "id": "3Jq1rnq_SkRV"
      },
      "outputs": [],
      "source": [
        ""
      ]
    },
    {
      "cell_type": "code",
      "execution_count": null,
      "metadata": {
        "id": "rYPEqyPjSkRV"
      },
      "outputs": [],
      "source": [
        "@jit\n",
        "def Matrix_A(VectSx,VectSy,VectSz,C00=C00,Omega=Omega,Gamma_dec=Gamma_dec,N_atom=N_atom):\n",
        "    \n",
        "    \"\"\"\n",
        "    Pk: Index of the kth atom\n",
        "    VectSy: \\overrightarrow{\\sigma_y}\n",
        "    VectSx: \\overrightarrow{\\sigma_X}\n",
        "    \"\"\"\n",
        "    Pk=0\n",
        "    R00_k=R00[Pk]\n",
        "    \n",
        "    C0_Cuad_Gam=(C00**2)*Gamma_dec\n",
        "    C0_Omega_Tw=2*C00*Omega\n",
        "    C0_pow4=C00**4\n",
        "    \n",
        "    \n",
        "    Cxz_k=C0_Omega_Tw*ImL_k[Pk]-(C0_pow4)*dot(R00_k,VectSy)+C0_Cuad_Gam*sum(VectSx)/2\n",
        "    Cyz_k=C0_Omega_Tw*RmL_k[Pk]+(C0_pow4)*dot(R00_k,VectSx)+C0_Cuad_Gam*sum(VectSy)/2\n",
        "    \n",
        "     \n",
        "    sxk=VectSx[Pk]\n",
        "    syk=VectSy[Pk]\n",
        "    szk=VectSz[Pk]\n",
        "    \n",
        "    \n",
        "    Dxx_k=-C0_Cuad_Gam*(1+szk)/2\n",
        "    Dyy_k= Dxx_k                     #-(C00**2)*Gamma_dec*refz\n",
        "    Dzx_k= C0_Cuad_Gam*sxk/2\n",
        "    Dzy_k= C0_Cuad_Gam*syk/2\n",
        "    Dzz_k=-C0_Cuad_Gam\n",
        "    \n",
        "    \n",
        "    Ic = array([0,1])\n",
        "    Jc = array([2,2])\n",
        "    Vc = array([Cxz_k,Cyz_k])\n",
        "    \n",
        "    \n",
        "    #Gen_k = sparse.coo_matrix((V,(I,J)),shape=(3*N_atom,3*N_atom))\n",
        "    #C_k   = Gen_k - Gen_k.T\n",
        "    \n",
        "    \n",
        "    Id = array([0,1,2,2,2])\n",
        "    Jd = array([0,1,0,1,2])\n",
        "    Vd = array([Dxx_k,Dyy_k,Dzx_k,Dzy_k,Dzz_k])\n",
        "    \n",
        "    \n",
        "    \n",
        "    for Pk in range(1,N_atom):\n",
        "        \n",
        "        \n",
        "        R00_k=R00[Pk]\n",
        "    \n",
        "    \n",
        "        Cxz_k=C0_Omega_Tw*ImL_k[Pk]-(C0_pow4)*dot(R00_k,VectSy)+C0_Cuad_Gam*sum(VectSx)/2\n",
        "        Cyz_k=C0_Omega_Tw*RmL_k[Pk]+(C0_pow4)*dot(R00_k,VectSx)+C0_Cuad_Gam*sum(VectSy)/2\n",
        "    \n",
        "     \n",
        "        sxk=VectSx[Pk]\n",
        "        syk=VectSy[Pk]\n",
        "        szk=VectSz[Pk]\n",
        "    \n",
        "    \n",
        "        Dxx_k=-C0_Cuad_Gam*(1+szk)/2\n",
        "        Dyy_k= Dxx_k                     #-(C00**2)*Gamma_dec*refz\n",
        "        Dzx_k= C0_Cuad_Gam*sxk/2\n",
        "        Dzy_k= C0_Cuad_Gam*syk/2\n",
        "        Dzz_k=-C0_Cuad_Gam\n",
        "        \n",
        "        \n",
        "        \n",
        "        \n",
        "        Transl_i=3*Pk\n",
        "    \n",
        "        Ic = concatenate((Ic, array([0,1])+Transl_i  ))\n",
        "        Jc = concatenate((Jc, array([2,2])+Transl_i  ))\n",
        "        Vc = concatenate((Vc, array([Cxz_k,Cyz_k])   ))\n",
        "    \n",
        "    \n",
        "    \n",
        "        Id = concatenate((Id, array([0,1,2,2,2])+Transl_i  ))\n",
        "        Jd = concatenate((Jd, array([0,1,0,1,2])+Transl_i  ))\n",
        "        Vd = concatenate((Vd, array([Dxx_k,Dyy_k,Dzx_k,Dzy_k,Dzz_k]) ))    \n",
        "\n",
        "\n",
        "    \n",
        "    SizeA=3*N_atom\n",
        "    \n",
        "    G = coo_matrix((Vc,(Ic,Jc)),shape=(SizeA,SizeA))\n",
        "    \n",
        "    D = coo_matrix((Vd,(Id,Jd)),shape=(SizeA,SizeA))\n",
        "    \n",
        "    \n",
        "    \n",
        "    \n",
        "    \n",
        "    return G-G.T  +  D    #Here I changed the .to..dense()\n"
      ]
    },
    {
      "cell_type": "code",
      "execution_count": null,
      "metadata": {
        "id": "sFcRtY_aSkRV"
      },
      "outputs": [],
      "source": [
        ""
      ]
    },
    {
      "cell_type": "code",
      "execution_count": null,
      "metadata": {
        "id": "Ds40Wgd3rlZo"
      },
      "outputs": [],
      "source": [
        "def MatrixRot_k(Pk,K_laser=K_laser,Alpha=0):\n",
        "    \n",
        "    Rk=Pos_atoms[Pk]\n",
        "    \n",
        "    Phi_k=dot(K_laser,Rk)\n",
        "    \n",
        "    S_k=sin(Phi_k)\n",
        "    C_k=cos(Phi_k)\n",
        "    S_a=sin(2*Alpha)\n",
        "    C_a=cos(2*Alpha)\n",
        "    \n",
        "    Array_Rot_k=np.array([[-C_k*C_a, S_k*C_a,-S_a],\n",
        "                        [S_k,C_k,0],\n",
        "                        [C_k*S_a,-S_k*S_a,-C_a]])\n",
        "    \n",
        "    return Array_Rot_k.round(6)"
      ]
    },
    {
      "cell_type": "code",
      "execution_count": null,
      "metadata": {
        "id": "l8ArnkH2rlZp"
      },
      "outputs": [],
      "source": [
        "def gRot_gen():\n",
        "    Array_Rot_gen=np.array([[0,-1,0],\n",
        "                           [1,0,0],\n",
        "                           [0,0,1]])\n",
        "    \n",
        "    return Array_Rot_gen\n",
        "\n",
        "    "
      ]
    },
    {
      "cell_type": "code",
      "execution_count": null,
      "metadata": {
        "id": "SZ2OTIGkrlZp"
      },
      "outputs": [],
      "source": [
        "# Matrix R of general rotation\n",
        "\n",
        "#tu0=time.time()\n",
        "\n",
        "round_val=8\n",
        "k=0\n",
        "M_k=csr_matrix(MatrixRot_k(0).round(round_val))\n",
        "\n",
        "Coord=(M_k).nonzero()\n",
        "\n",
        "Xk=Coord[0]\n",
        "Yk=Coord[1]\n",
        "Valk=(M_k).data\n",
        "\n",
        "X_arr=Xk\n",
        "Y_arr=Yk\n",
        "Val_arr=Valk\n",
        "\n",
        "\n",
        "for k in range(1,N_atom):\n",
        "    M_k=csr_matrix(MatrixRot_k(k).round(round_val))\n",
        "    Coord=(M_k).nonzero()\n",
        "    \n",
        "    Xk=Coord[0]+3*k\n",
        "    Yk=Coord[1]+3*k\n",
        "    Valk=(M_k).data\n",
        "    \n",
        "    X_arr=np.concatenate((X_arr, Xk), axis=0)\n",
        "    Y_arr=np.concatenate((Y_arr, Yk), axis=0)\n",
        "    Val_arr=np.concatenate((Val_arr, Valk), axis=0)\n",
        "    \n",
        "    \n",
        "Rot_R = (sparse.coo_matrix((Val_arr,(X_arr,Y_arr)),shape=(3*N_atom,3*N_atom))) \n",
        "\n",
        "#tu1=time.time()\n",
        "\n",
        "#print(tu1-tu0)"
      ]
    },
    {
      "cell_type": "code",
      "execution_count": null,
      "metadata": {
        "id": "hTFWxApirlZp"
      },
      "outputs": [],
      "source": [
        "Val_arr=np.array(N_atom*[-1,1,1])\n",
        "\n",
        "Ib=[]\n",
        "Jb=[]\n",
        "\n",
        "for j in range(N_atom):\n",
        "    \n",
        "    Ij=np.array([0+3*j,1+3*j,2+3*j])\n",
        "    Jj=np.array([1+3*j,0+3*j,2+3*j])\n",
        "    \n",
        "    Ib= np.concatenate((Ib, Ij))\n",
        "    Jb= np.concatenate((Jb, Jj))\n"
      ]
    },
    {
      "cell_type": "code",
      "execution_count": null,
      "metadata": {
        "id": "d_TXndzkrlZq"
      },
      "outputs": [],
      "source": [
        "Rot_Val = (sparse.coo_matrix((array(Val_arr),(Ib,Jb)),shape=(3*N_atom,3*N_atom)))"
      ]
    },
    {
      "cell_type": "code",
      "execution_count": null,
      "metadata": {
        "id": "VeDoKi9drlZq"
      },
      "outputs": [],
      "source": [
        "#print(Rot_R)"
      ]
    },
    {
      "cell_type": "code",
      "execution_count": null,
      "metadata": {
        "id": "AkfqF0iErlZq"
      },
      "outputs": [],
      "source": [
        "sqr_GammaR=sqrt(Gamma_dec)"
      ]
    },
    {
      "cell_type": "code",
      "execution_count": null,
      "metadata": {
        "id": "kuuw5UhKrlZq"
      },
      "outputs": [],
      "source": [
        "#Plot the matrix R\n",
        "\n",
        "\n",
        "#import numpy as np\n",
        "#import matplotlib.pyplot as plt\n",
        "\n",
        "#plt.imshow(Rot_R.todense())\n",
        "#plt.colorbar()\n",
        "#plt.show()"
      ]
    },
    {
      "cell_type": "code",
      "execution_count": null,
      "metadata": {
        "id": "3UtD6ds5rlZr"
      },
      "outputs": [],
      "source": [
        "#More efficient multiplication\n",
        "\n",
        "\n",
        "#tyu0=time.time()\n",
        "\n",
        "#Vali=Rot_R@rty\n",
        "\n",
        "#tyu1=time.time()"
      ]
    },
    {
      "cell_type": "markdown",
      "metadata": {
        "id": "p9Uo5YCDrlZr"
      },
      "source": [
        "# Sampling"
      ]
    },
    {
      "cell_type": "code",
      "execution_count": null,
      "metadata": {
        "id": "UL8SLNAIrlZr"
      },
      "outputs": [],
      "source": [
        "\n",
        "def init_state(N_atom=N_atom):\n",
        "    elements = [-1, 1]\n",
        "    probabilities = [0.5, 0.5]\n",
        "    Measurements=list(choice(elements, 2*N_atom, p=probabilities))\n",
        "    for j in range(N_atom):\n",
        "\n",
        "        Measurements.insert(2+3*j,-1)   #We start at |g>\n",
        "        \n",
        "    return Measurements\n",
        "    \n"
      ]
    },
    {
      "cell_type": "code",
      "execution_count": null,
      "metadata": {
        "id": "G0BZmetarlZs"
      },
      "outputs": [],
      "source": [
        "# Separate in Sx, Sy and Sz\n",
        "#@jit\n",
        "def get_s_alpha(Measur):\n",
        "    \n",
        "    Arr_retX=[]\n",
        "    Arr_retY=[]\n",
        "    Arr_retZ=[]\n",
        "    \n",
        "    for j in range(N_atom):\n",
        "        Arr_retX.append(Measur[3*j])\n",
        "        Arr_retY.append(Measur[3*j+1])\n",
        "        Arr_retZ.append(Measur[3*j+2])\n",
        "    \n",
        "    return Arr_retX,Arr_retY,Arr_retZ"
      ]
    },
    {
      "cell_type": "code",
      "execution_count": null,
      "metadata": {
        "id": "4ef3qrG2rlZs"
      },
      "outputs": [],
      "source": [
        "\n",
        "def b_fun(N_atom=N_atom,Gamma_dec=Gamma_dec):\n",
        "    \n",
        "    b_column=[]\n",
        "    \n",
        "    for j in range(N_atom):\n",
        "        b_column.append(0)\n",
        "        b_column.append(0)\n",
        "        b_column.append(1)\n",
        "        \n",
        "    return np.array(b_column)"
      ]
    },
    {
      "cell_type": "code",
      "execution_count": null,
      "metadata": {
        "id": "OklnNKu_rlZs"
      },
      "outputs": [],
      "source": [
        "TransR_m=(Rot_R.T)\n",
        "b_funct=b_fun().reshape(3*N_atom,)\n",
        "\n"
      ]
    },
    {
      "cell_type": "markdown",
      "metadata": {
        "id": "5Te00DCDrlZs"
      },
      "source": [
        "# Construct the differential equations"
      ]
    },
    {
      "cell_type": "code",
      "execution_count": null,
      "metadata": {
        "id": "F6yZN4yFrlZt"
      },
      "outputs": [],
      "source": [
        "#%% Differential equation RHS function\n",
        "\n",
        "#%%%%%%%%%%%%%%%%%%%%%%%%%%%%%%%%%%%%%%%%%%%%%%%%%%%%%%%%%%%%%%%%%%%\n",
        "V_decay=(C00**2)*Gamma_dec*b_funct\n",
        "\n",
        "@jit\n",
        "def f(t, yR):#  ,TransR_m=TransR_m,Rot_R=Rot_R,C00=C00,Gamma_dec=Gamma_dec,b_funct=b_funct):\n",
        "    \n",
        "    \n",
        "    # Here yR is an array in the R xR,yR and zR basis. \n",
        "    \n",
        "    \n",
        "    # yOr is the results array in the x, y and z basis.\n",
        "    \n",
        "    \n",
        "    Separ_alpha=get_s_alpha(yR)\n",
        "    \n",
        "    \n",
        "    yOr_x=Separ_alpha[0] \n",
        "    yOr_y=Separ_alpha[1] \n",
        "    yOr_z=Separ_alpha[2]  \n",
        "    \n",
        "    MatA=(Matrix_A(yOr_y,yOr_x,yOr_z))@yR-V_decay\n",
        "\n",
        "\n",
        "    return MatA\n",
        "    "
      ]
    },
    {
      "cell_type": "code",
      "execution_count": null,
      "metadata": {
        "id": "51Bpbi23SkRZ"
      },
      "outputs": [],
      "source": [
        ""
      ]
    },
    {
      "cell_type": "code",
      "execution_count": null,
      "metadata": {
        "id": "MTUW8xbiSkRa"
      },
      "outputs": [],
      "source": [
        "(f( 0, init_state())).shape"
      ]
    },
    {
      "cell_type": "code",
      "execution_count": null,
      "metadata": {
        "id": "Zv_NalZlSkRa"
      },
      "outputs": [],
      "source": [
        ""
      ]
    },
    {
      "cell_type": "code",
      "execution_count": null,
      "metadata": {
        "id": "eeAI33I6SkRa"
      },
      "outputs": [],
      "source": [
        ""
      ]
    },
    {
      "cell_type": "code",
      "execution_count": null,
      "metadata": {
        "id": "Z7mHOjI4SkRb"
      },
      "outputs": [],
      "source": [
        ""
      ]
    },
    {
      "cell_type": "code",
      "execution_count": null,
      "metadata": {
        "id": "WNEAjPq5rlZt"
      },
      "outputs": [],
      "source": [
        "\n",
        "#%% Noise function\n",
        "\n",
        "C00_sqr_Gam=(C00)*sqr_GammaR\n",
        "\n",
        "\n",
        "@jit\n",
        "def g(yR, t):\n",
        "    \n",
        "    \n",
        "    # Here yR is an array in the R xR,yR and zR basis. \n",
        "    # yOr is the results array in the x, y and z basis.\n",
        "    \n",
        "    \n",
        "\n",
        "    #yOr=(TransR_m)@((array(yR)).reshape(3*N_atom,))\n",
        "    yOr=((array(yR)).reshape(3*N_atom,))\n",
        "    \n",
        "    return C00_sqr_Gam*(  Rot_Val @ yOr +b_funct)\n",
        "    "
      ]
    },
    {
      "cell_type": "code",
      "execution_count": null,
      "metadata": {
        "id": "TnPpjPKkSkRb"
      },
      "outputs": [],
      "source": [
        ""
      ]
    },
    {
      "cell_type": "code",
      "execution_count": null,
      "metadata": {
        "id": "HE9ur3Y3SkRb"
      },
      "outputs": [],
      "source": [
        ""
      ]
    },
    {
      "cell_type": "code",
      "execution_count": null,
      "metadata": {
        "id": "G5cijJfLSkRb"
      },
      "outputs": [],
      "source": [
        ""
      ]
    },
    {
      "cell_type": "markdown",
      "metadata": {
        "id": "FaYaOXSZrlZt"
      },
      "source": [
        "# Euler-Maruyama"
      ]
    },
    {
      "cell_type": "code",
      "execution_count": null,
      "metadata": {
        "id": "nFgssPk5rlZt"
      },
      "outputs": [],
      "source": [
        "tspan=np.linspace(0,5,17000+1)\n",
        "h=(tspan[-1]-tspan[0])/(len(tspan)-1)\n",
        "\n",
        "h"
      ]
    },
    {
      "cell_type": "code",
      "execution_count": null,
      "metadata": {
        "id": "PicBAzCTSkRc"
      },
      "outputs": [],
      "source": [
        ""
      ]
    },
    {
      "cell_type": "code",
      "execution_count": null,
      "metadata": {
        "id": "eksYhid4rlZu"
      },
      "outputs": [],
      "source": [
        "\n",
        "@jit\n",
        "def EulerMaruyama(f, g, y0 , tspan,Stochastic=1 ):\n",
        "        \n",
        "    y0,Ns =array(y0).reshape(3*N_atom,), len(tspan)\n",
        "\n",
        "    h,y = (tspan[Ns-1] - tspan[0])/(Ns - 1),zeros((Ns, 3*N_atom), dtype=float)\n",
        "    # allocate space for result\n",
        "\n",
        "    y[0] = y0.reshape(3*N_atom,);\n",
        "    \n",
        "    Second_moment=[]\n",
        "    \n",
        "    sqrth=sqrt(h)*Stochastic\n",
        "    \n",
        "    #init0=y0.reshape(3*N_atom,1)\n",
        "    \n",
        "    #Second_moment.append( init0@(init0.T)   )\n",
        "    \n",
        "    \n",
        "    for n in range(0, Ns-1):\n",
        "        \n",
        "        print(100*n/Ns)\n",
        "\n",
        "\n",
        "        tn   = tspan[n]\n",
        "        tnp1 = tspan[n+1]\n",
        "        yn   = y[n]\n",
        "        \n",
        "\n",
        "\n",
        "        fn = f(yn, tn)\n",
        "        #gn = g(yn, tn)\n",
        "        \n",
        "        ynp1=yn + fn*h #+ gn*sqrth*normal()\n",
        "        \n",
        "        y[n+1] = ynp1\n",
        "        \n",
        "        #Vect_np1=ynp1.reshape(3*N_atom,1)\n",
        "        \n",
        "        #Second_moment.append( Vect_np1@(Vect_np1.T)   )\n",
        "        \n",
        "        #print(n)\n",
        "        \n",
        "    return y    #, Second_moment"
      ]
    },
    {
      "cell_type": "code",
      "execution_count": null,
      "metadata": {
        "id": "cTZgBj9ErlZu"
      },
      "outputs": [],
      "source": [
        ""
      ]
    },
    {
      "cell_type": "code",
      "execution_count": null,
      "metadata": {
        "id": "V0mDDmbUrlZv"
      },
      "outputs": [],
      "source": [
        "\n",
        "itera=500\n",
        "\n",
        "@jit\n",
        "def averages_sde(itera=itera,N_atom=N_atom,tspan=tspan,Stochastic=1):\n",
        "    Results =EulerMaruyama(f,g,init_state(),tspan,Stochastic=1)\n",
        "    \n",
        "    Result_First  =Results\n",
        "\n",
        "    print(0)\n",
        "\n",
        "    for j in range(itera-1):\n",
        "        Trayec=EulerMaruyama(f,g,init_state(),tspan)\n",
        "        Result_First  =add(Result_First  ,Trayec)\n",
        "\n",
        "        print(j+1)\n",
        "    \n",
        "    return np.array(Result_First)/int(itera)"
      ]
    },
    {
      "cell_type": "code",
      "execution_count": null,
      "metadata": {
        "id": "MW3xTP4-rlZv"
      },
      "outputs": [],
      "source": [
        ""
      ]
    },
    {
      "cell_type": "code",
      "execution_count": null,
      "metadata": {
        "id": "LwTQwz8MrlZv"
      },
      "outputs": [],
      "source": [
        "#resEM[0][-1]\n",
        "\n",
        "#resEM[0].shape"
      ]
    },
    {
      "cell_type": "code",
      "execution_count": null,
      "metadata": {
        "id": "IBqusQDarlZv"
      },
      "outputs": [],
      "source": [
        ""
      ]
    },
    {
      "cell_type": "code",
      "execution_count": null,
      "metadata": {
        "id": "D52m8ktSrlZw"
      },
      "outputs": [],
      "source": [
        ""
      ]
    },
    {
      "cell_type": "code",
      "execution_count": null,
      "metadata": {
        "id": "v8RN6Mz1rlZw"
      },
      "outputs": [],
      "source": [
        "import matplotlib.pyplot as plt\n",
        "import numpy as np\n",
        "#from google.colab import files\n",
        "\n",
        "\"\"\"In order to provide a better presentation of the graphs we use the rcParams options shown below.\"\"\"\n",
        "\n",
        "import matplotlib\n",
        "matplotlib.rcParams['text.usetex'] = False\n",
        "matplotlib.rcParams['mathtext.fontset'] = 'stix'\n",
        "matplotlib.rcParams['font.family'] = 'STIXGeneral'\n",
        "matplotlib.rcParams['font.size'] = 15\n",
        "matplotlib.rcParams['figure.figsize'] = (11.0, 8.0)\n",
        "\n",
        "from numpy import cos, sin\n",
        "\n",
        "label_size = 20\n",
        "\n",
        "from numpy import sqrt\n",
        "\n",
        "import time\n",
        "from numba import jit\n",
        "from numpy import sin, cos\n",
        "\n",
        "T0=time.time()\n",
        "\n",
        "import matplotlib\n",
        "matplotlib.rcParams['text.usetex'] = False\n",
        "matplotlib.rcParams['mathtext.fontset'] = 'stix'\n",
        "matplotlib.rcParams['font.family'] = 'STIXGeneral'\n",
        "matplotlib.rcParams['font.size'] = 15\n",
        "matplotlib.rcParams['figure.figsize'] = (11.0, 8.0)"
      ]
    },
    {
      "cell_type": "code",
      "execution_count": null,
      "metadata": {
        "id": "fwct37vJrlZw"
      },
      "outputs": [],
      "source": [
        ""
      ]
    },
    {
      "cell_type": "code",
      "execution_count": null,
      "metadata": {
        "id": "orJNnvEkrlZw"
      },
      "outputs": [],
      "source": [
        "import time\n",
        "\n"
      ]
    },
    {
      "cell_type": "markdown",
      "metadata": {
        "id": "1iDxWUZorlZw"
      },
      "source": [
        "# Mean-Field"
      ]
    },
    {
      "cell_type": "code",
      "execution_count": null,
      "metadata": {
        "id": "CWYoJuVWrlZx"
      },
      "outputs": [],
      "source": [
        "t0=time.time()\n",
        "\n",
        "MF_result=EulerMaruyama(f, g, list(-b_fun()) , tspan,Stochastic=0 )\n",
        "\n",
        "t1=time.time()"
      ]
    },
    {
      "cell_type": "code",
      "execution_count": null,
      "metadata": {
        "id": "PSMd8XBDrlZx"
      },
      "outputs": [],
      "source": [
        "\n",
        "SxMF=[]\n",
        "SyMF=[]\n",
        "SzMF=[]\n",
        "\n",
        "for j in range(MF_result.shape[0]):\n",
        "    \n",
        "    Sxyz=get_s_alpha(MF_result[j])\n",
        "    \n",
        "    SxMF.append(sum(Sxyz[0])/2)\n",
        "    SyMF.append(sum(Sxyz[1])/2)\n",
        "    SzMF.append(sum(Sxyz[2])/2)\n",
        "    "
      ]
    },
    {
      "cell_type": "code",
      "execution_count": null,
      "metadata": {
        "id": "ZufNww44SkRe"
      },
      "outputs": [],
      "source": [
        "print(t1-t0)"
      ]
    },
    {
      "cell_type": "code",
      "execution_count": null,
      "metadata": {
        "id": "Lk_nBYQCSkRe"
      },
      "outputs": [],
      "source": [
        "plt.title(\"Single Particle Operator Dynamics $(\\Delta r=0.17\\lambda,N_{\\\\rm{atom}}=256)$\",fontsize=30)\n",
        "\n",
        "fontsize=25\n",
        "\n",
        "plt.plot(Gamma_dec*tspan,np.array(SxMF),label=\"$\\\\left<\\hat{S}_x\\\\right>$ Mean-Field\")\n",
        "plt.plot(Gamma_dec*tspan,np.array(SyMF),label=\"$\\\\left<\\hat{S}_y\\\\right>$ Mean-Field\")\n",
        "plt.plot(Gamma_dec*tspan,np.array(SzMF),label=\"$\\\\left<\\hat{S}_z\\\\right>$ Mean-Field\")\n",
        "\n",
        "#plt.ylabel(\"$\\\\left<\\hat{S}_{\\\\alpha}\\\\right>/N_{\\\\rm{atom}}$\",fontsize=fontsize)\n",
        "plt.ylabel(\"$\\\\left<\\hat{S}_{\\\\alpha}\\\\right>$\",fontsize=fontsize)\n",
        "plt.xlabel(\"$\\Gamma t$\",fontsize=fontsize)\n",
        "\n",
        "\n",
        "plt.legend(fontsize=fontsize-5)"
      ]
    },
    {
      "cell_type": "code",
      "execution_count": null,
      "metadata": {
        "id": "ADh6yeDQSkRe"
      },
      "outputs": [],
      "source": [
        ""
      ]
    },
    {
      "cell_type": "code",
      "execution_count": null,
      "metadata": {
        "id": "jHJ_vBaUtM7N"
      },
      "outputs": [],
      "source": [
        "from scipy.integrate import solve_ivp"
      ]
    },
    {
      "cell_type": "code",
      "execution_count": null,
      "metadata": {
        "id": "7zESHhRmSkRe"
      },
      "outputs": [],
      "source": [
        ""
      ]
    },
    {
      "cell_type": "code",
      "execution_count": null,
      "metadata": {
        "id": "slYadqAVSkRe"
      },
      "outputs": [],
      "source": [
        "tyme0=time.time()\n",
        "\n",
        "sol = solve_ivp(f, [0, 5], list(-b_fun()) )\n",
        "\n",
        "tyme1=time.time()\n",
        "\n",
        "\n",
        "print(tyme1-tyme0)"
      ]
    },
    {
      "cell_type": "code",
      "execution_count": null,
      "metadata": {
        "id": "pUy0Jq6wSkRe"
      },
      "outputs": [],
      "source": [
        ""
      ]
    },
    {
      "cell_type": "code",
      "execution_count": null,
      "metadata": {
        "id": "blz93ZFPSkRe"
      },
      "outputs": [],
      "source": [
        "sol.t"
      ]
    },
    {
      "cell_type": "code",
      "execution_count": null,
      "metadata": {
        "id": "c64efvvtSkRe"
      },
      "outputs": [],
      "source": [
        ""
      ]
    },
    {
      "cell_type": "code",
      "execution_count": null,
      "metadata": {
        "id": "oISgNK3xSkRf"
      },
      "outputs": [],
      "source": [
        "\n",
        "SxMF=[]\n",
        "SyMF=[]\n",
        "SzMF=[]\n",
        "\n",
        "for j in range((sol.y).shape[1]):\n",
        "    \n",
        "    Sxyz=get_s_alpha((sol.y)[:,j])\n",
        "    \n",
        "    SxMF.append(sum(Sxyz[0])/2)\n",
        "    SyMF.append(sum(Sxyz[1])/2)\n",
        "    SzMF.append(sum(Sxyz[2])/2)\n",
        "    "
      ]
    },
    {
      "cell_type": "code",
      "execution_count": null,
      "metadata": {
        "id": "zqurWj7gtM-U"
      },
      "outputs": [],
      "source": [
        ""
      ]
    },
    {
      "cell_type": "code",
      "execution_count": null,
      "metadata": {
        "id": "9p1Bok2iSkRf"
      },
      "outputs": [],
      "source": [
        "plt.title(\"Single Particle Operator Dynamics $(\\Delta x=20\\lambda,N_{\\\\rm{atom}}=128)$\",fontsize=30)\n",
        "\n",
        "fontsize=25\n",
        "\n",
        "plt.plot(sol.t,np.array(SxMF),label=\"$\\\\left<\\hat{S}_x\\\\right>$ Mean-Field\")\n",
        "plt.plot(sol.t,np.array(SyMF),label=\"$\\\\left<\\hat{S}_y\\\\right>$ Mean-Field\")\n",
        "plt.plot(sol.t,np.array(SzMF),label=\"$\\\\left<\\hat{S}_z\\\\right>$ Mean-Field\")\n",
        "\n",
        "#plt.ylabel(\"$\\\\left<\\hat{S}_{\\\\alpha}\\\\right>/N_{\\\\rm{atom}}$\",fontsize=fontsize)\n",
        "plt.ylabel(\"$\\\\left<\\hat{S}_{\\\\alpha}\\\\right>$\",fontsize=fontsize)\n",
        "plt.xlabel(\"$\\Gamma t$\",fontsize=fontsize)\n",
        "\n",
        "\n",
        "plt.legend(fontsize=fontsize-5)"
      ]
    },
    {
      "cell_type": "code",
      "execution_count": null,
      "metadata": {
        "id": "dPWS-HAiSkRf"
      },
      "outputs": [],
      "source": [
        "N_atom"
      ]
    },
    {
      "cell_type": "code",
      "execution_count": null,
      "metadata": {
        "id": "w4pxGXBUSkRf"
      },
      "outputs": [],
      "source": [
        ""
      ]
    },
    {
      "cell_type": "code",
      "execution_count": null,
      "metadata": {
        "id": "LZA8dV5SSkRf"
      },
      "outputs": [],
      "source": [
        ""
      ]
    },
    {
      "cell_type": "code",
      "execution_count": null,
      "metadata": {
        "id": "kJ-ZV0nZSkRf"
      },
      "outputs": [],
      "source": [
        ""
      ]
    },
    {
      "cell_type": "markdown",
      "metadata": {
        "id": "9eKMfvO8rlZz"
      },
      "source": [
        "# DissDTWA (Dissipative Discrete-TWA) "
      ]
    },
    {
      "cell_type": "code",
      "execution_count": null,
      "metadata": {
        "id": "mB3aNR2ErlZz"
      },
      "outputs": [],
      "source": [
        ""
      ]
    },
    {
      "cell_type": "code",
      "execution_count": null,
      "metadata": {
        "id": "dxP6emrwrlZz"
      },
      "outputs": [],
      "source": [
        "import time\n",
        "#t0=time.time()\n",
        "\n",
        "itera=300\n",
        "Result_varTWA_Col_SDE = averages_sde(itera=itera,N_atom=N_atom,tspan=tspan,Stochastic=1)\n",
        "#Result_varTWA_Col_TWA = averages_sde(itera=itera,N=N)\n",
        "\n",
        "#t1=time.time()\n",
        "\n",
        "#print(t1-t0)"
      ]
    },
    {
      "cell_type": "code",
      "execution_count": null,
      "metadata": {
        "id": "YRG0C8KNrlZ0"
      },
      "outputs": [],
      "source": [
        ""
      ]
    },
    {
      "cell_type": "code",
      "execution_count": null,
      "metadata": {
        "id": "bSa0-mc1rlZ0"
      },
      "outputs": [],
      "source": [
        ""
      ]
    },
    {
      "cell_type": "code",
      "execution_count": null,
      "metadata": {
        "id": "c4p1L5mjrlZ0"
      },
      "outputs": [],
      "source": [
        ""
      ]
    },
    {
      "cell_type": "code",
      "execution_count": null,
      "metadata": {
        "id": "jPUp5Y5BrlZ0"
      },
      "outputs": [],
      "source": [
        ""
      ]
    },
    {
      "cell_type": "code",
      "execution_count": null,
      "metadata": {
        "id": "IeMosg4rrlZ0"
      },
      "outputs": [],
      "source": [
        "Result_Or=((Result_varTWA_Col_SDE[0].T)).T\n",
        "\n",
        "\n",
        "Result_Or[0]"
      ]
    },
    {
      "cell_type": "code",
      "execution_count": null,
      "metadata": {
        "id": "pOu_6i8RrlZ0"
      },
      "outputs": [],
      "source": [
        "Sx=[]\n",
        "Sy=[]\n",
        "Sz=[]\n",
        "\n",
        "for j in range(Result_Or.shape[0]):\n",
        "    \n",
        "    Sxyz=get_s_alpha(Result_Or[j])\n",
        "    \n",
        "    Sx.append(sum(Sxyz[0])/2)\n",
        "    Sy.append(sum(Sxyz[1])/2)\n",
        "    Sz.append(sum(Sxyz[2])/2)\n"
      ]
    },
    {
      "cell_type": "code",
      "execution_count": null,
      "metadata": {
        "id": "MNz8XiFprlZ1"
      },
      "outputs": [],
      "source": [
        "plt.title(\"Single Particle Operator Dynamics $(\\Delta r=0.3\\lambda,N_{\\\\rm{atom}}=10)$\",fontsize=30)\n",
        "\n",
        "\n",
        "\n",
        "plt.plot(tspan[:5000],array(Sx[:5000])/N_atom,label=\"$\\\\left<\\hat{S}_x\\\\right>/N_{\\\\rm{atom}}$ DissTWA\")\n",
        "plt.plot(tspan[:5000],array(Sy[:5000])/N_atom,label=\"$\\\\left<\\hat{S}_y\\\\right>/N_{\\\\rm{atom}}$ DissTWA\")\n",
        "plt.plot(tspan[:5000],array(Sz[:5000])/N_atom,label=\"$\\\\left<\\hat{S}_z\\\\right>/N_{\\\\rm{atom}}$ DissTWA\")\n",
        "\n",
        "\n",
        "\n",
        "fontsize=25\n",
        "\n",
        "plt.plot(tspan[:5000],np.array(SxMF[:5000])/N_atom,\"--\",label=\"$\\\\left<\\hat{S}_x\\\\right>/N_{\\\\rm{atom}}$ Mean-Field\")\n",
        "plt.plot(tspan[:5000],np.array(SyMF[:5000])/N_atom,\"--\",label=\"$\\\\left<\\hat{S}_y\\\\right>/N_{\\\\rm{atom}}$ Mean-Field\")\n",
        "plt.plot(tspan[:5000],np.array(SzMF[:5000])/N_atom,\"--\",label=\"$\\\\left<\\hat{S}_z\\\\right>/N_{\\\\rm{atom}}$ Mean-Field\")\n",
        "\n",
        "plt.ylabel(\"$\\\\left<\\hat{S}_{\\\\alpha}\\\\right>/N_{\\\\rm{atom}}$\",fontsize=fontsize)\n",
        "plt.xlabel(\"$\\Gamma t$\",fontsize=fontsize)\n",
        "\n",
        "\n",
        "plt.legend(fontsize=fontsize-5)\n",
        "\n",
        "plt.legend()"
      ]
    },
    {
      "cell_type": "code",
      "execution_count": null,
      "metadata": {
        "id": "f50Pi_Y2rlZ1"
      },
      "outputs": [],
      "source": [
        "\n"
      ]
    },
    {
      "cell_type": "code",
      "execution_count": null,
      "metadata": {
        "id": "tur59N4jrlZ1"
      },
      "outputs": [],
      "source": [
        ""
      ]
    },
    {
      "cell_type": "code",
      "execution_count": null,
      "metadata": {
        "id": "foayTVaorlZ1"
      },
      "outputs": [],
      "source": [
        ""
      ]
    },
    {
      "cell_type": "code",
      "execution_count": null,
      "metadata": {
        "id": "_uOaw-hrrlZ1"
      },
      "outputs": [],
      "source": [
        "MF_result=(TransR_m@(EulerMaruyama(f, g, list(b_fun()) , tspan,Stochastic=0 )[0].T)).T\n",
        "\n",
        "SxMF=[]\n",
        "SyMF=[]\n",
        "SzMF=[]\n",
        "\n",
        "for j in range(MF_result.shape[0]):\n",
        "    \n",
        "    Sxyz=get_s_alpha(MF_result[j])\n",
        "    \n",
        "    SxMF.append(sum(Sxyz[0])/2)\n",
        "    SyMF.append(sum(Sxyz[1])/2)\n",
        "    SzMF.append(sum(Sxyz[2])/2)\n"
      ]
    },
    {
      "cell_type": "code",
      "execution_count": null,
      "metadata": {
        "id": "pn0IQvUXrlZ2"
      },
      "outputs": [],
      "source": [
        "plt.title(\"Single Particle Operator Dynamics\",fontsize=30)\n",
        "\n",
        "fontsize=25\n",
        "\n",
        "plt.plot(tspan,np.array(SxMF)/N_atom,label=\"$\\\\left<\\hat{S}_x\\\\right>/N_{\\\\rm{atom}}$ Mean-Field\")\n",
        "plt.plot(tspan,np.array(SyMF)/N_atom,label=\"$\\\\left<\\hat{S}_y\\\\right>/N_{\\\\rm{atom}}$ Mean-Field\")\n",
        "plt.plot(tspan,np.array(SzMF)/N_atom,label=\"$\\\\left<\\hat{S}_z\\\\right>/N_{\\\\rm{atom}}$ Mean-Field\")\n",
        "\n",
        "plt.ylabel(\"$\\\\left<\\hat{S}_{\\\\alpha}\\\\right>/N_{\\\\rm{atom}}$\",fontsize=fontsize)\n",
        "plt.xlabel(\"$\\Gamma t$\",fontsize=fontsize)\n",
        "\n",
        "\n",
        "plt.legend(fontsize=fontsize-5)"
      ]
    },
    {
      "cell_type": "code",
      "execution_count": null,
      "metadata": {
        "id": "kCwXmJJerlZ2"
      },
      "outputs": [],
      "source": [
        ""
      ]
    },
    {
      "cell_type": "code",
      "execution_count": null,
      "metadata": {
        "id": "Lrhkl1CarlZ2"
      },
      "outputs": [],
      "source": [
        ""
      ]
    },
    {
      "cell_type": "code",
      "execution_count": null,
      "metadata": {
        "id": "tDB55FrJrlZ2"
      },
      "outputs": [],
      "source": [
        ""
      ]
    },
    {
      "cell_type": "code",
      "execution_count": null,
      "metadata": {
        "id": "WNO_2zmwrlZ2"
      },
      "outputs": [],
      "source": [
        ""
      ]
    },
    {
      "cell_type": "code",
      "execution_count": null,
      "metadata": {
        "id": "mCiUrRyMrlZ2"
      },
      "outputs": [],
      "source": [
        ""
      ]
    },
    {
      "cell_type": "code",
      "execution_count": null,
      "metadata": {
        "id": "NEm3BWk6rlZ3"
      },
      "outputs": [],
      "source": [
        ""
      ]
    },
    {
      "cell_type": "code",
      "execution_count": null,
      "metadata": {
        "id": "5WVo5Pa5rlZ3"
      },
      "outputs": [],
      "source": [
        ""
      ]
    },
    {
      "cell_type": "code",
      "execution_count": null,
      "metadata": {
        "id": "QWx8lll-rlZ3"
      },
      "outputs": [],
      "source": [
        "plt.plot(tspan,Sx,label=\"$<S_x> DissDTWA$\")\n",
        "plt.plot(tspan,Sy,label=\"$<S_y> DissDTWA$\")\n",
        "plt.plot(tspan,Sz,label=\"$<S_z> DissDTWA$\")\n",
        "plt.plot(tspan,SxMF,label=\"$<S_x> MF$\")\n",
        "plt.plot(tspan,SyMF,label=\"$<S_y> MF$\")\n",
        "plt.plot(tspan,SzMF,label=\"$<S_z> MF$\")\n",
        "\n",
        "plt.legend()"
      ]
    },
    {
      "cell_type": "code",
      "execution_count": null,
      "metadata": {
        "id": "kRGzFMmkrlZ3"
      },
      "outputs": [],
      "source": [
        ""
      ]
    },
    {
      "cell_type": "code",
      "execution_count": null,
      "metadata": {
        "id": "KhaLtWB4rlZ3"
      },
      "outputs": [],
      "source": [
        ""
      ]
    }
  ],
  "metadata": {
    "colab": {
      "collapsed_sections": [
        "9eKMfvO8rlZz"
      ],
      "name": "MACEupdatePositiveLindblandia_Checked.ipynb",
      "provenance": []
    },
    "interpreter": {
      "hash": "8b5a56c868af681f12af5d6461e4b0e184841bd5d58e03f1e772403ba6bf7368"
    },
    "kernelspec": {
      "display_name": "Python 3",
      "language": "python",
      "name": "python3"
    },
    "language_info": {
      "codemirror_mode": {
        "name": "ipython",
        "version": 3
      },
      "file_extension": ".py",
      "mimetype": "text/x-python",
      "name": "python",
      "nbconvert_exporter": "python",
      "pygments_lexer": "ipython3",
      "version": "3.8.3"
    }
  },
  "nbformat": 4,
  "nbformat_minor": 0
}